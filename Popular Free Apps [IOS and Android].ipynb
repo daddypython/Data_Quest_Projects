{
 "cells": [
  {
   "cell_type": "markdown",
   "id": "f2f6435a",
   "metadata": {},
   "source": [
    "## FREE APPS IN ENGLISH LANGUAGE THAT ATTRACT USERS \n",
    "                                                                                                                March 2021"
   ]
  },
  {
   "cell_type": "markdown",
   "id": "287f846b",
   "metadata": {},
   "source": [
    "As of September 2018, there were approximately 2 million iOS apps available on the App Store, and 2.1 million Android apps on Google Play. In this project, we have worked on the sample of those data taken from:\n",
    "Ios dataset: https://www.kaggle.com/ramamet4/app-store-apple-data-set-10k-apps\n",
    "Android dataset: https://www.kaggle.com/lava18/google-play-store-apps\n",
    "\n",
    "The goal of this poject is to obtain preliminary findings about what type of apps are likely to attract more users on both the Apple Store and Google Play."
   ]
  },
  {
   "cell_type": "code",
   "execution_count": 1,
   "id": "2cbd25bc",
   "metadata": {},
   "outputs": [],
   "source": [
    "def read_partial_csv(dataset, rows = 0):\n",
    "    opened_file = open(csv_filename)\n",
    "    read_file = reader(opened_file)\n",
    "    \n",
    "    rows = []\n",
    "    for row in read_file:\n",
    "        if num_rows == 0 or len(rows) + 1 <= num_rows:\n",
    "            rows.append(row)\n",
    "    return rows"
   ]
  },
  {
   "cell_type": "code",
   "execution_count": 1,
   "id": "08758347",
   "metadata": {},
   "outputs": [],
   "source": [
    "''' create class of preliminary functons for the following purpose:\n",
    "\n",
    "1. remove header from dataset.\n",
    "2. return header and dataset seperately.\n",
    "3. slice data to explore the firstt 5 rows.\n",
    "4. extract rows with missing values.\n",
    "5. extract rows with duplicate values.\n",
    "6. return True if items are in English language.\n",
    "7. return True if price is 0.\n",
    "\n",
    "'''\n",
    "\n",
    "class Data:\n",
    "#-------------------------------------------------------------------#\n",
    "    def header(dataset):\n",
    "        header = dataset[0]\n",
    "        return header\n",
    "#-------------------------------------------------------------------#\n",
    "    def data_without_header(dataset):\n",
    "        dataset = dataset[1:]\n",
    "        return dataset\n",
    "#-------------------------------------------------------------------#\n",
    "    def explore_data(dataset):\n",
    "        dataset_slice = dataset[0:5]\n",
    "        print(\"Number of rows (without header):\", len(dataset))\n",
    "        print(\"Number of columns(without header):\", len(dataset[0]))\n",
    "        print('\\n')\n",
    "        print(\"First 5 rows:\")\n",
    "        print('\\n')\n",
    "        for row in dataset_slice:\n",
    "            print(row)\n",
    "            print('\\n')\n",
    "#-------------------------------------------------------------------#\n",
    "    def missing_value(dataset):\n",
    "        len_row = 0\n",
    "        header = Data.header(dataset)\n",
    "        for row in dataset:\n",
    "            if len(header) != len(row):\n",
    "                len_row += 1\n",
    "                print(\"Row Index Number:\", dataset.index(row))\n",
    "                print(row)\n",
    "        print(\"Number of rows with missing value:\", len_row)\n",
    "        print('\\n')\n",
    "#-------------------------------------------------------------------#\n",
    "    def duplicate_row(dataset, integer, duplicate_entry=False):\n",
    "        duplicate_entry = []\n",
    "        unique_entry = []\n",
    "        for row in dataset:\n",
    "            value = row[integer]\n",
    "            if value in unique_entry:\n",
    "                duplicate_entry.append(value)\n",
    "            else:\n",
    "                unique_entry.append(value)  \n",
    "        print(\"Number of rows with duplicate entries: {num}\".format(num=len(duplicate_entry), data=dataset))   \n",
    "        \n",
    "        if duplicate_entry:\n",
    "            print(duplicate_entry[:20])\n",
    "#-------------------------------------------------------------------#\n",
    "    def is_english(string):\n",
    "        app_not_eng = 0           \n",
    "    \n",
    "        for character in string:\n",
    "            if ord(character) > 127:\n",
    "                app_not_eng += 1\n",
    "       \n",
    "        if app_not_eng > 3:\n",
    "            return False\n",
    "        else:\n",
    "            return True\n",
    "#-------------------------------------------------------------------#\n",
    "    def free(price):\n",
    "        if price == '0.0' or price == '0':\n",
    "            return True\n",
    "        else:\n",
    "            return False"
   ]
  },
  {
   "cell_type": "code",
   "execution_count": 2,
   "id": "b902216b",
   "metadata": {},
   "outputs": [],
   "source": [
    "from csv import reader\n",
    "\n",
    "### import android data ###\n",
    "file = open('googleplaystore.csv', encoding=\"utf8\")\n",
    "read = reader(file)\n",
    "android = list(read)\n",
    "\n",
    "### import ios data ###\n",
    "file = open('AppleStore.csv', encoding=\"utf8\")\n",
    "read = reader(file)\n",
    "ios = list(read)\n",
    "\n",
    "### pass function to seperate header from dataset ###\n",
    "android_header = Data.header(android)\n",
    "android = Data.data_without_header(android)\n",
    "\n",
    "ios_header = Data.header(ios)\n",
    "ios = Data.data_without_header(ios)"
   ]
  },
  {
   "cell_type": "markdown",
   "id": "b0ade750",
   "metadata": {},
   "source": [
    "### 1. Exploring IOS Data"
   ]
  },
  {
   "cell_type": "code",
   "execution_count": 3,
   "id": "b6456681",
   "metadata": {
    "scrolled": true
   },
   "outputs": [
    {
     "name": "stdout",
     "output_type": "stream",
     "text": [
      "IOS Header:\n",
      "\n",
      "\n",
      "['id', 'track_name', 'size_bytes', 'currency', 'price', 'rating_count_tot', 'rating_count_ver', 'user_rating', 'user_rating_ver', 'ver', 'cont_rating', 'prime_genre', 'sup_devices.num', 'ipadSc_urls.num', 'lang.num', 'vpp_lic']\n",
      "Number of rows (without header): 7197\n",
      "Number of columns(without header): 16\n",
      "\n",
      "\n",
      "First 5 rows:\n",
      "\n",
      "\n",
      "['284882215', 'Facebook', '389879808', 'USD', '0.0', '2974676', '212', '3.5', '3.5', '95.0', '4+', 'Social Networking', '37', '1', '29', '1']\n",
      "\n",
      "\n",
      "['389801252', 'Instagram', '113954816', 'USD', '0.0', '2161558', '1289', '4.5', '4.0', '10.23', '12+', 'Photo & Video', '37', '0', '29', '1']\n",
      "\n",
      "\n",
      "['529479190', 'Clash of Clans', '116476928', 'USD', '0.0', '2130805', '579', '4.5', '4.5', '9.24.12', '9+', 'Games', '38', '5', '18', '1']\n",
      "\n",
      "\n",
      "['420009108', 'Temple Run', '65921024', 'USD', '0.0', '1724546', '3842', '4.5', '4.0', '1.6.2', '9+', 'Games', '40', '5', '1', '1']\n",
      "\n",
      "\n",
      "['284035177', 'Pandora - Music & Radio', '130242560', 'USD', '0.0', '1126879', '3594', '4.0', '4.5', '8.4.1', '12+', 'Music', '37', '4', '1', '1']\n",
      "\n",
      "\n",
      "Number of rows with missing value: 0\n",
      "\n",
      "\n",
      "Number of rows with duplicate entries: 0\n"
     ]
    }
   ],
   "source": [
    "### calling preliminary functons to explore the IOS dataset ###\n",
    "print(\"IOS Header:\")\n",
    "print('\\n')\n",
    "print(ios_header)\n",
    "Data.explore_data(ios)\n",
    "Data.missing_value(ios)\n",
    "Data.duplicate_row(ios, 0)"
   ]
  },
  {
   "cell_type": "markdown",
   "id": "ed16da0e",
   "metadata": {},
   "source": [
    "### 2. Exploring Android Data"
   ]
  },
  {
   "cell_type": "code",
   "execution_count": 4,
   "id": "094e8e26",
   "metadata": {
    "scrolled": true
   },
   "outputs": [
    {
     "name": "stdout",
     "output_type": "stream",
     "text": [
      "Header:\n",
      "\n",
      "\n",
      "['App', 'Category', 'Rating', 'Reviews', 'Size', 'Installs', 'Type', 'Price', 'Content Rating', 'Genres', 'Last Updated', 'Current Ver', 'Android Ver']\n",
      "\n",
      "\n",
      "Number of rows (without header): 10841\n",
      "Number of columns(without header): 13\n",
      "\n",
      "\n",
      "First 5 rows:\n",
      "\n",
      "\n",
      "['Photo Editor & Candy Camera & Grid & ScrapBook', 'ART_AND_DESIGN', '4.1', '159', '19M', '10,000+', 'Free', '0', 'Everyone', 'Art & Design', 'January 7, 2018', '1.0.0', '4.0.3 and up']\n",
      "\n",
      "\n",
      "['Coloring book moana', 'ART_AND_DESIGN', '3.9', '967', '14M', '500,000+', 'Free', '0', 'Everyone', 'Art & Design;Pretend Play', 'January 15, 2018', '2.0.0', '4.0.3 and up']\n",
      "\n",
      "\n",
      "['U Launcher Lite – FREE Live Cool Themes, Hide Apps', 'ART_AND_DESIGN', '4.7', '87510', '8.7M', '5,000,000+', 'Free', '0', 'Everyone', 'Art & Design', 'August 1, 2018', '1.2.4', '4.0.3 and up']\n",
      "\n",
      "\n",
      "['Sketch - Draw & Paint', 'ART_AND_DESIGN', '4.5', '215644', '25M', '50,000,000+', 'Free', '0', 'Teen', 'Art & Design', 'June 8, 2018', 'Varies with device', '4.2 and up']\n",
      "\n",
      "\n",
      "['Pixel Draw - Number Art Coloring Book', 'ART_AND_DESIGN', '4.3', '967', '2.8M', '100,000+', 'Free', '0', 'Everyone', 'Art & Design;Creativity', 'June 20, 2018', '1.1', '4.4 and up']\n",
      "\n",
      "\n",
      "Row Index Number: 10472\n",
      "['Life Made WI-Fi Touchscreen Photo Frame', '1.9', '19', '3.0M', '1,000+', 'Free', '0', 'Everyone', '', 'February 11, 2018', '1.0.19', '4.0 and up']\n",
      "Number of rows with missing value: 1\n",
      "\n",
      "\n",
      "Number of rows with duplicate entries: 1181\n",
      "['Quick PDF Scanner + OCR FREE', 'Box', 'Google My Business', 'ZOOM Cloud Meetings', 'join.me - Simple Meetings', 'Box', 'Zenefits', 'Google Ads', 'Google My Business', 'Slack', 'FreshBooks Classic', 'Insightly CRM', 'QuickBooks Accounting: Invoicing & Expenses', 'HipChat - Chat Built for Teams', 'Xero Accounting Software', 'MailChimp - Email, Marketing Automation', 'Crew - Free Messaging and Scheduling', 'Asana: organize team projects', 'Google Analytics', 'AdWords Express']\n"
     ]
    }
   ],
   "source": [
    "### calling preliminary functons to explore the Android dataset ###\n",
    "print(\"Header:\")\n",
    "print('\\n')\n",
    "print(android_header)\n",
    "print('\\n')\n",
    "Data.explore_data(android)\n",
    "Data.missing_value(android)\n",
    "Data.duplicate_row(android, 0)"
   ]
  },
  {
   "cell_type": "markdown",
   "id": "053508fa",
   "metadata": {},
   "source": [
    "### 3. Cleaning both dataset"
   ]
  },
  {
   "cell_type": "markdown",
   "id": "f6fee00a",
   "metadata": {},
   "source": [
    "##### 3.1 Deleting row with missing value [index number 10472]."
   ]
  },
  {
   "cell_type": "code",
   "execution_count": 5,
   "id": "48e48d39",
   "metadata": {},
   "outputs": [
    {
     "name": "stdout",
     "output_type": "stream",
     "text": [
      "Number of rows after deletion: 10840\n"
     ]
    }
   ],
   "source": [
    "### Deleting row with missing value ###\n",
    "del(android[10472])\n",
    "print(\"Number of rows after deletion:\", len(android))"
   ]
  },
  {
   "cell_type": "markdown",
   "id": "27e674d5",
   "metadata": {},
   "source": [
    "##### 3.2 Deleting duplicate entries."
   ]
  },
  {
   "cell_type": "markdown",
   "id": "7cbdf8c4",
   "metadata": {},
   "source": [
    "Below, we will find few names of the apps which has duplicate entries."
   ]
  },
  {
   "cell_type": "code",
   "execution_count": 6,
   "id": "235738f0",
   "metadata": {
    "scrolled": true
   },
   "outputs": [
    {
     "name": "stdout",
     "output_type": "stream",
     "text": [
      "Number of rows with duplicate entries: 1181\n",
      "['Quick PDF Scanner + OCR FREE', 'Box', 'Google My Business', 'ZOOM Cloud Meetings', 'join.me - Simple Meetings', 'Box', 'Zenefits', 'Google Ads', 'Google My Business', 'Slack', 'FreshBooks Classic', 'Insightly CRM', 'QuickBooks Accounting: Invoicing & Expenses', 'HipChat - Chat Built for Teams', 'Xero Accounting Software', 'MailChimp - Email, Marketing Automation', 'Crew - Free Messaging and Scheduling', 'Asana: organize team projects', 'Google Analytics', 'AdWords Express']\n",
      "\n",
      "\n"
     ]
    }
   ],
   "source": [
    "### checking names of few of the duplicate apps ###\n",
    "Data.duplicate_row(android, 0, True)\n",
    "print('\\n')"
   ]
  },
  {
   "cell_type": "markdown",
   "id": "e5b16697",
   "metadata": {},
   "source": [
    "A quick review of couple of these apps show that some are pure duplication. For example, the first two entries below for 'Quick PDF Scanner + OCR FREE', 'BUSINESS' app. However, the duplicate entries for 'Instagram' show that the 'Reviews' column (4th column) is different. \n",
    "\n",
    "We will delete all pure duplicate entries. For entries like 'Instagram', we will maintain only the entry with the highest number of reviews. "
   ]
  },
  {
   "cell_type": "code",
   "execution_count": 7,
   "id": "597bb0c9",
   "metadata": {},
   "outputs": [
    {
     "name": "stdout",
     "output_type": "stream",
     "text": [
      "['Quick PDF Scanner + OCR FREE', 'BUSINESS', '4.2', '80805', 'Varies with device', '5,000,000+', 'Free', '0', 'Everyone', 'Business', 'February 26, 2018', 'Varies with device', '4.0.3 and up']\n",
      "['Quick PDF Scanner + OCR FREE', 'BUSINESS', '4.2', '80805', 'Varies with device', '5,000,000+', 'Free', '0', 'Everyone', 'Business', 'February 26, 2018', 'Varies with device', '4.0.3 and up']\n",
      "['Quick PDF Scanner + OCR FREE', 'BUSINESS', '4.2', '80804', 'Varies with device', '5,000,000+', 'Free', '0', 'Everyone', 'Business', 'February 26, 2018', 'Varies with device', '4.0.3 and up']\n",
      "\n",
      "\n",
      "['Instagram', 'SOCIAL', '4.5', '66577313', 'Varies with device', '1,000,000,000+', 'Free', '0', 'Teen', 'Social', 'July 31, 2018', 'Varies with device', 'Varies with device']\n",
      "['Instagram', 'SOCIAL', '4.5', '66577446', 'Varies with device', '1,000,000,000+', 'Free', '0', 'Teen', 'Social', 'July 31, 2018', 'Varies with device', 'Varies with device']\n",
      "['Instagram', 'SOCIAL', '4.5', '66577313', 'Varies with device', '1,000,000,000+', 'Free', '0', 'Teen', 'Social', 'July 31, 2018', 'Varies with device', 'Varies with device']\n",
      "['Instagram', 'SOCIAL', '4.5', '66509917', 'Varies with device', '1,000,000,000+', 'Free', '0', 'Teen', 'Social', 'July 31, 2018', 'Varies with device', 'Varies with device']\n"
     ]
    }
   ],
   "source": [
    "### exploring couple of those duplicate entries ###\n",
    "for row in android:\n",
    "    if 'Quick PDF Scanner + OCR FREE' in row:\n",
    "        print(row)\n",
    "print('\\n')\n",
    "for row in android:\n",
    "    if 'Instagram' in row:\n",
    "        print(row)"
   ]
  },
  {
   "cell_type": "code",
   "execution_count": 8,
   "id": "d1f1e483",
   "metadata": {},
   "outputs": [
    {
     "name": "stdout",
     "output_type": "stream",
     "text": [
      "Number of rows after removing duplicate entries: 9659\n"
     ]
    }
   ],
   "source": [
    "### creating empty dictionary to take in name of the app as the key and the highest reviews as the value ###\n",
    "reviews_max = {}\n",
    "for row in android:\n",
    "    name = row[0]\n",
    "    n_reviews = float(row[3])\n",
    "    \n",
    "    if name in reviews_max and reviews_max[name] < n_reviews:\n",
    "        reviews_max[name] = n_reviews\n",
    "    elif name not in reviews_max:\n",
    "        reviews_max[name] = n_reviews\n",
    "\n",
    "### creating an empty list 'android_clean' to take in only one entry for each app ###\n",
    "android_clean = []\n",
    "already_added = []\n",
    "\n",
    "for row in android:\n",
    "    name = row[0]\n",
    "    n_reviews = float(row[3])\n",
    "    if (reviews_max[name] == n_reviews) and (name not in already_added):\n",
    "        android_clean.append(row)\n",
    "        already_added.append(name)\n",
    "print(\"Number of rows after removing duplicate entries:\", len(android_clean))"
   ]
  },
  {
   "cell_type": "markdown",
   "id": "fddff9e4",
   "metadata": {},
   "source": [
    "### 4. Extracting apps that are in English language. "
   ]
  },
  {
   "cell_type": "code",
   "execution_count": 9,
   "id": "503f76d1",
   "metadata": {},
   "outputs": [
    {
     "name": "stdout",
     "output_type": "stream",
     "text": [
      "English apps in IOS Data: 6183\n",
      "\n",
      "\n",
      "English apps in Android Data: 9614\n"
     ]
    }
   ],
   "source": [
    "### creating empty lists take in ios and android datasets that are in English language ###\n",
    "ios_english = []\n",
    "android_english = []\n",
    "\n",
    "for row in ios:\n",
    "    name = row[1]\n",
    "    if Data.is_english(name): ### calling preliminary function to determine if row contains non-english characters ###\n",
    "        ios_english.append(row)\n",
    "\n",
    "for row in android_clean:\n",
    "    name = row[0]\n",
    "    if Data.is_english(name): ### calling preliminary function to determine if row contains non-english characters ###\n",
    "        android_english.append(row)   \n",
    "\n",
    "print(\"English apps in IOS Data:\", len(ios_english))\n",
    "print('\\n')\n",
    "print(\"English apps in Android Data:\", len(android_english))"
   ]
  },
  {
   "cell_type": "markdown",
   "id": "e6539ccf",
   "metadata": {},
   "source": [
    "### 5.  Extracting apps that are free. "
   ]
  },
  {
   "cell_type": "code",
   "execution_count": 10,
   "id": "a434cdee",
   "metadata": {},
   "outputs": [
    {
     "name": "stdout",
     "output_type": "stream",
     "text": [
      "Free English apps in IOS Data: 3222\n",
      "\n",
      "\n",
      "Free English apps in Android Data: 8864\n"
     ]
    }
   ],
   "source": [
    "### creating empty lists take in ios and android datasets that are in free ###\n",
    "ios_final = []\n",
    "android_final = []\n",
    "\n",
    "for row in ios_english:\n",
    "    price = row[4]\n",
    "    if Data.free(price):### calling preliminary function to determine if app is free ###\n",
    "        ios_final.append(row)\n",
    "        \n",
    "for row in android_english:\n",
    "    price = row[7]\n",
    "    if Data.free(price): ### calling preliminary function to determine if app is free ###\n",
    "        android_final.append(row)\n",
    "        \n",
    "print(\"Free English apps in IOS Data:\", len(ios_final))\n",
    "print('\\n')\n",
    "print(\"Free English apps in Android Data:\", len(android_final))   \n",
    "    "
   ]
  },
  {
   "cell_type": "markdown",
   "id": "3247cc96",
   "metadata": {},
   "source": [
    "### 6. Finding each genre/ category as % of the total apps. "
   ]
  },
  {
   "cell_type": "code",
   "execution_count": 11,
   "id": "1a5601f0",
   "metadata": {},
   "outputs": [
    {
     "name": "stdout",
     "output_type": "stream",
     "text": [
      "\n",
      "\n",
      "IOS apps in % of total apps:\n",
      "\n",
      "\n",
      "Games : 58.16263190564867\n",
      "Entertainment : 7.883302296710118\n",
      "Photo & Video : 4.9658597144630665\n",
      "Education : 3.662321539416512\n",
      "Social Networking : 3.2898820608317814\n",
      "Shopping : 2.60707635009311\n",
      "Utilities : 2.5139664804469275\n",
      "Sports : 2.1415270018621975\n",
      "Music : 2.0484171322160147\n",
      "Health & Fitness : 2.0173805090006205\n",
      "Productivity : 1.7380509000620732\n",
      "Lifestyle : 1.5828677839851024\n",
      "News : 1.3345747982619491\n",
      "Travel : 1.2414649286157666\n",
      "Finance : 1.1173184357541899\n",
      "Weather : 0.8690254500310366\n",
      "Food & Drink : 0.8069522036002483\n",
      "Reference : 0.5586592178770949\n",
      "Business : 0.5276225946617008\n",
      "Book : 0.4345127250155183\n",
      "Navigation : 0.186219739292365\n",
      "Medical : 0.186219739292365\n",
      "Catalogs : 0.12414649286157665\n"
     ]
    }
   ],
   "source": [
    "### creating function for frequency table ###\n",
    "def freq_table(dataset, index):\n",
    "    table = {} ### creating empty dictionary to take in value count for ach genre ###\n",
    "    total = 0 ### creating variable and set it at 0 to count total number of entries / rows ###\n",
    "    \n",
    "    for row in dataset:\n",
    "        total += 1\n",
    "        value = row[index]\n",
    "        if value in table:\n",
    "            table[value] += 1 ### if value in table, add 1 to the count for that genre\n",
    "        else:\n",
    "            table[value] = 1\n",
    "            \n",
    "### creating empty dictionary to take in the % value for each genre ###\n",
    "    table_percentages = {}\n",
    "    for key in table:\n",
    "        percentage = (table[key] / total) * 100 ### value count for each genre divide by total number of app * 100 ### \n",
    "        table_percentages[key] = percentage \n",
    "    \n",
    "    return table_percentages\n",
    "\n",
    "### creating function to sort and display the percentage for each genre ###\n",
    "def display_table(dataset, index):\n",
    "    table = freq_table(dataset, index)\n",
    "    table_display = [] ### to take in the genre and percentage in the dictionary ###\n",
    "    for key in table:\n",
    "        key_val_as_tuple = (table[key], key)\n",
    "        table_display.append(key_val_as_tuple)\n",
    "        \n",
    "    table_sorted = sorted(table_display, reverse = True)\n",
    "    for entry in table_sorted:\n",
    "        print(entry[1], ':', entry[0])\n",
    "\n",
    "print('\\n')\n",
    "print(\"IOS apps in % of total apps:\")\n",
    "print('\\n')\n",
    "display_table(ios_final, -5)"
   ]
  },
  {
   "cell_type": "code",
   "execution_count": 12,
   "id": "d0499d50",
   "metadata": {},
   "outputs": [
    {
     "name": "stdout",
     "output_type": "stream",
     "text": [
      "Android apps in % of total apps:\n",
      "\n",
      "\n",
      "FAMILY : 18.907942238267147\n",
      "GAME : 9.724729241877256\n",
      "TOOLS : 8.461191335740072\n",
      "BUSINESS : 4.591606498194946\n",
      "LIFESTYLE : 3.9034296028880866\n",
      "PRODUCTIVITY : 3.892148014440433\n",
      "FINANCE : 3.7003610108303246\n",
      "MEDICAL : 3.531137184115524\n",
      "SPORTS : 3.395758122743682\n",
      "PERSONALIZATION : 3.3167870036101084\n",
      "COMMUNICATION : 3.2378158844765346\n",
      "HEALTH_AND_FITNESS : 3.0798736462093865\n",
      "PHOTOGRAPHY : 2.944494584837545\n",
      "NEWS_AND_MAGAZINES : 2.7978339350180503\n",
      "SOCIAL : 2.6624548736462095\n",
      "TRAVEL_AND_LOCAL : 2.33528880866426\n",
      "SHOPPING : 2.2450361010830324\n",
      "BOOKS_AND_REFERENCE : 2.1435018050541514\n",
      "DATING : 1.861462093862816\n",
      "VIDEO_PLAYERS : 1.7937725631768955\n",
      "MAPS_AND_NAVIGATION : 1.3989169675090252\n",
      "FOOD_AND_DRINK : 1.2409747292418771\n",
      "EDUCATION : 1.1620036101083033\n",
      "ENTERTAINMENT : 0.9589350180505415\n",
      "LIBRARIES_AND_DEMO : 0.9363718411552346\n",
      "AUTO_AND_VEHICLES : 0.9250902527075812\n",
      "HOUSE_AND_HOME : 0.8235559566787004\n",
      "WEATHER : 0.8009927797833934\n",
      "EVENTS : 0.7107400722021661\n",
      "PARENTING : 0.6543321299638989\n",
      "ART_AND_DESIGN : 0.6430505415162455\n",
      "COMICS : 0.6204873646209386\n",
      "BEAUTY : 0.5979241877256317\n",
      "\n",
      "\n"
     ]
    }
   ],
   "source": [
    "print(\"Android apps in % of total apps:\")\n",
    "print('\\n')\n",
    "display_table(android_final, 1)\n",
    "print('\\n')"
   ]
  },
  {
   "cell_type": "markdown",
   "id": "612c71ee",
   "metadata": {},
   "source": [
    "### 7. PRELIMINARY OBSERVATION\n",
    "\n",
    "##### Most common genre:\n",
    "Android Apps: Family (18.90%)\n",
    "IOS Apps: Games (58.16%)\n",
    "\n",
    "##### Runner-up\n",
    "Android Apps: Games (9.72%)\n",
    "IOS Apps: Entertainment (7.88%)\n",
    "\n",
    "##### General impression\n",
    "1. Gaming apps accounts for most of the number of the apps.\n",
    "2. Most of the apps desifned are not for practical purpose.\n",
    "3. Large number of Gaming apps seems to suggest that there is more demand for gamings apps. This gives the general impression that gaming apps have large number of users (but this may not be necessarily accurate and data needs to be analysed).\n",
    "\n",
    "##### Preliminary Recommendation\n",
    "1. If the end goal is to develop and add profitable app on both the Apple Store and Google Play, then more resources should be spent on developing gaming / fun apps. "
   ]
  },
  {
   "cell_type": "markdown",
   "id": "f7e3994a",
   "metadata": {},
   "source": [
    "### 8. Average number of user ratings for each genre"
   ]
  },
  {
   "cell_type": "code",
   "execution_count": 13,
   "id": "6741c6f4",
   "metadata": {},
   "outputs": [
    {
     "name": "stdout",
     "output_type": "stream",
     "text": [
      "IOS:\n",
      "Social Networking : 71548.34905660378\n",
      "Photo & Video : 28441.54375\n",
      "Games : 22788.6696905016\n",
      "Music : 57326.530303030304\n",
      "Reference : 74942.11111111111\n",
      "Health & Fitness : 23298.015384615384\n",
      "Weather : 52279.892857142855\n",
      "Utilities : 18684.456790123455\n",
      "Travel : 28243.8\n",
      "Shopping : 26919.690476190477\n",
      "News : 21248.023255813954\n",
      "Navigation : 86090.33333333333\n",
      "Lifestyle : 16485.764705882353\n",
      "Entertainment : 14029.830708661417\n",
      "Food & Drink : 33333.92307692308\n",
      "Sports : 23008.898550724636\n",
      "Book : 39758.5\n",
      "Finance : 31467.944444444445\n",
      "Education : 7003.983050847458\n",
      "Productivity : 21028.410714285714\n",
      "Business : 7491.117647058823\n",
      "Catalogs : 4004.0\n",
      "Medical : 612.0\n"
     ]
    }
   ],
   "source": [
    "print(\"IOS:\")\n",
    "genres_ios = freq_table(ios_final, -5) ### passing 'ios data' and 'prime genre' as parameters ###\n",
    "for genre in genres_ios:\n",
    "    total = 0\n",
    "    len_genre = 0\n",
    "    for app in ios_final:\n",
    "        genre_app = app[-5]\n",
    "        if genre_app == genre:            \n",
    "            n_ratings = float(app[5])\n",
    "            total += n_ratings\n",
    "            len_genre += 1\n",
    "    avg_n_ratings = total / len_genre\n",
    "    print(genre, ':', avg_n_ratings)\n",
    "    \n",
    "### standalone code ###\n",
    "### def avg_rating(dataset, index):\n",
    "###    prime_genre = {}\n",
    "###    prime_total = {}\n",
    "###    for row in dataset:\n",
    "###        genre = row[index]\n",
    "\n",
    "###        rating = float(row[5])\n",
    "###        if genre in prime_genre:\n",
    "###            prime_genre[genre] += rating\n",
    "###            prime_total[genre] += 1\n",
    "###        else:\n",
    "###            prime_genre[genre] = rating\n",
    "###            prime_total[genre] = 1\n",
    "\n",
    "###    so_avg = {}\n",
    "###    for genre in prime_genre and prime_total:\n",
    "###        average_rating = prime_genre[genre] / prime_total[genre]\n",
    "###        so_avg[genre] = average_rating\n",
    "    \n",
    "###    return so_avg"
   ]
  },
  {
   "cell_type": "markdown",
   "id": "03a8cb18",
   "metadata": {},
   "source": [
    "##### 8.1 Most Popular Apps by Genre on the App Store (IOS Apps)\n",
    "On average, navigation apps have the highest number of user reviews, but this figure is heavily influenced by Waze and Google Maps.\n",
    "\n",
    "The same pattern applies to social networking apps, where the average number is heavily influenced by a few giants like Facebook, Pinterest, Skype, etc. \n",
    "\n",
    "Same applies to music apps, where a few big players like Pandora, Spotify, and Shazam heavily influence the average number.\n",
    "\n",
    "The average number of ratings seem to be skewed by very few apps which have hundreds of thousands of user ratings, while the other apps may struggle to get past the 10,000 threshold. \n",
    "\n",
    "We could get a better picture by removing these extremely popular apps for each genre and then rework the averages.\n",
    "\n",
    "Reference apps have 74,942 user ratings on average, but it's actually the Bible and Dictionary.com which skew up the average rating.However, this niche seems to show some potential. One thing we could do is take another popular book and turn it into an app where we could add different features besides the raw version of the book. This might include daily quotes from the book, an audio version of the book, quizzes about the book, etc. On top of that, we could also embed a dictionary within the app, so users don't need to exit our app to look up words in an external app.\n",
    "\n",
    "This idea seems to fit well with the fact that the App Store is dominated by for-fun apps. This suggests the market might be a bit saturated with for-fun apps, which means a practical app might have more of a chance to stand out among the huge number of apps on the App Store.\n",
    "\n",
    "Other genres that seem popular include weather, book, food and drink, or finance. The book genre seem to overlap a bit with the app idea we described above, but the other genres don't seem too interesting to us:\n",
    "\n",
    "Weather apps — people generally don't spend too much time in-app, and the chances of making profit from in-app adds are low. Also, getting reliable live weather data may require us to connect our apps to non-free APIs.\n",
    "\n",
    "Food and drink — examples here include Starbucks, Dunkin' Donuts, McDonald's, etc. So making a popular food and drink app requires actual cooking and a delivery service, which is outside the scope of our company.\n",
    "\n",
    "Finance apps — these apps involve banking, paying bills, money transfer, etc. Building a finance app requires domain knowledge, and we don't want to hire a finance expert just to build an app."
   ]
  },
  {
   "cell_type": "code",
   "execution_count": 14,
   "id": "76309caf",
   "metadata": {},
   "outputs": [
    {
     "name": "stdout",
     "output_type": "stream",
     "text": [
      "Android:\n",
      "\n",
      "\n",
      "ART_AND_DESIGN : 1986335.0877192982\n",
      "AUTO_AND_VEHICLES : 647317.8170731707\n",
      "BEAUTY : 513151.88679245283\n",
      "BOOKS_AND_REFERENCE : 8767811.894736841\n",
      "BUSINESS : 1712290.1474201474\n",
      "COMICS : 817657.2727272727\n",
      "COMMUNICATION : 38456119.167247385\n",
      "DATING : 854028.8303030303\n",
      "EDUCATION : 1833495.145631068\n",
      "ENTERTAINMENT : 11640705.88235294\n",
      "EVENTS : 253542.22222222222\n",
      "FINANCE : 1387692.475609756\n",
      "FOOD_AND_DRINK : 1924897.7363636363\n",
      "HEALTH_AND_FITNESS : 4188821.9853479853\n",
      "HOUSE_AND_HOME : 1331540.5616438356\n",
      "LIBRARIES_AND_DEMO : 638503.734939759\n",
      "LIFESTYLE : 1437816.2687861272\n",
      "GAME : 15588015.603248259\n",
      "FAMILY : 3695641.8198090694\n",
      "MEDICAL : 120550.61980830671\n",
      "SOCIAL : 23253652.127118643\n",
      "SHOPPING : 7036877.311557789\n",
      "PHOTOGRAPHY : 17840110.40229885\n",
      "SPORTS : 3638640.1428571427\n",
      "TRAVEL_AND_LOCAL : 13984077.710144928\n",
      "TOOLS : 10801391.298666667\n",
      "PERSONALIZATION : 5201482.6122448975\n",
      "PRODUCTIVITY : 16787331.344927534\n",
      "PARENTING : 542603.6206896552\n",
      "WEATHER : 5074486.197183099\n",
      "VIDEO_PLAYERS : 24727872.452830188\n",
      "NEWS_AND_MAGAZINES : 9549178.467741935\n",
      "MAPS_AND_NAVIGATION : 4056941.7741935486\n"
     ]
    }
   ],
   "source": [
    "print(\"Android:\")\n",
    "print('\\n')\n",
    "\n",
    "categories_android = freq_table(android_final, 1)\n",
    "for category in categories_android:\n",
    "    total = 0\n",
    "    len_category = 0\n",
    "    for app in android_final:\n",
    "        category_app = app[1]\n",
    "        if category_app == category:\n",
    "            n_installs = app[5]\n",
    "            n_installs = n_installs.replace(',', '')\n",
    "            n_installs = n_installs.replace('+', '')\n",
    "            total += float(n_installs)\n",
    "            len_category += 1\n",
    "    avg_n_installs = total / len_category\n",
    "    print(category, ':', avg_n_installs)"
   ]
  },
  {
   "cell_type": "markdown",
   "id": "11cd4c5b",
   "metadata": {},
   "source": [
    "##### 8.2 Most Popular Apps by Genre on the App Store (IOS Apps)\n",
    "\n",
    "On average, communication apps have the most installs: 38,456,119. This number is heavily skewed up by a few apps that have over one billion installs (WhatsApp, Facebook Messenger, Skype, Google Chrome, Gmail, and Hangouts), and a few others with over 100 and 500 million installs. If we removed all the communication apps that have over 100 million installs, the average would be reduced roughly ten times. \n",
    "\n",
    "\n",
    "We see the same pattern for the video players category, which is the runner-up with 24,727,872 installs. The market is dominated by apps like Youtube, Google Play Movies & TV, or MX Player. The pattern is repeated for social apps (where we have giants like Facebook, Instagram, Google+, etc.), photography apps (Google Photos and other popular photo editors), or productivity apps (Microsoft Word, Dropbox, Google Calendar, Evernote, etc.).\n",
    "\n",
    "Again, the main concern is that these app genres might seem more popular than they really are. Moreover, these niches seem to be dominated by a few giants who are hard to compete against.\n",
    "\n",
    "The game genre seems pretty popular, but previously we found out this part of the market seems a bit saturated, so we'd like to come up with a different app recommendation if possible.\n",
    "\n",
    "The books and reference genre looks fairly popular as well, with an average number of installs of 8,767,811. It's interesting to explore this in more depth, since we found this genre has some potential to work well on the App Store, and our aim is to recommend an app genre that shows potential for being profitable on both the App Store and Google Play.\n",
    "\n",
    "The book and reference genre includes a variety of apps: software for processing and reading ebooks, various collections of libraries, dictionaries, tutorials on programming or languages, etc. It seems there's still a small number of extremely popular apps that skew the average:\n",
    "\n",
    "\n",
    "Google Play Books : 1,000,000,000+\n",
    "Bible : 100,000,000+\n",
    "Amazon Kindle : 100,000,000+\n",
    "Wattpad Free Books : 100,000,000+\n",
    "Audiobooks from Audible : 100,000,000+\n",
    "\n",
    "However, it looks like there are only a few very popular apps, so this market still shows potential. \n",
    "\n",
    "We also notice there are quite a few apps built around the book Quran, which suggests that building an app around a popular book can be profitable. It seems that taking a popular book (perhaps a more recent book) and turning it into an app could be profitable for both the Google Play and the App Store markets.\n",
    "\n",
    "However, it looks like the market is already full of libraries, so we need to add some special features besides the raw version of the book. This might include daily quotes from the book, an audio version of the book, quizzes on the book, a forum where people can discuss the book, etc."
   ]
  },
  {
   "cell_type": "markdown",
   "id": "6af53116",
   "metadata": {},
   "source": [
    "### 9. Conclusion\n",
    "\n",
    "#### Validation Strategy (Steps): \n",
    "1. Build a minimal Android version of the app, and add it to Google Play.\n",
    "2. If the app has a good response from users, we then develop it further.\n",
    "3. If the app is profitable after six months, we also build an iOS version of the app and add it to the App Store.\n",
    "\n",
    "The above steps would assist:\n",
    "1. in finding out app profiles that are successful on both Apple Store and Google Play. \n",
    "2. the company to minimize risks and overhead.\n",
    "\n",
    "In this project, we analyzed data about the App Store and Google Play mobile apps with the goal of recommending an app profile that can be profitable for both markets.\n",
    "\n",
    "We conclude that taking a popular book (perhaps a more recent book) and turning it into an app could be profitable for both the Google Play and the App Store markets. The markets are already full of libraries, so we need to add some special features besides the raw version of the book. This might include daily quotes from the book, an audio version of the book, quizzes on the book, a forum where people can discuss the book, etc.\n"
   ]
  }
 ],
 "metadata": {
  "_draft": {
   "nbviewer_url": "https://gist.github.com/662aeb8c4c282f8c7ad274465219431c"
  },
  "gist": {
   "data": {
    "description": "DQ Projects/Popular Free Apps [IOS and Android].ipynb",
    "public": true
   },
   "id": "662aeb8c4c282f8c7ad274465219431c"
  },
  "hide_input": false,
  "kernelspec": {
   "display_name": "Python 3",
   "language": "python",
   "name": "python3"
  },
  "language_info": {
   "codemirror_mode": {
    "name": "ipython",
    "version": 3
   },
   "file_extension": ".py",
   "mimetype": "text/x-python",
   "name": "python",
   "nbconvert_exporter": "python",
   "pygments_lexer": "ipython3",
   "version": "3.8.8"
  }
 },
 "nbformat": 4,
 "nbformat_minor": 5
}
