{
 "cells": [
  {
   "cell_type": "markdown",
   "id": "d1429b9d",
   "metadata": {},
   "source": [
    "# I-94 Traffic - Why the volume is so high?\n",
    "                                                                                                         23rd June 2021\n",
    "\n",
    "### 1. Introduction\n",
    "\n",
    "##### This project concerns a dataset about the westbound traffic on the I-94 Interstate highway. The goal of the analysis is to determine a few indicators of heavy traffic on I-94. These indicators can be weather type, time of the day, time of the week, etc. \n",
    "\n",
    "##### The dataset contains hourly (24 hour period) Interstate 94 Westbound traffic volume for MN DoT ATR station 301, roughly midway between Minneapolis and St Paul, MN. It includes hourly weather features and holidays for impacts on traffic volume. It only includes records for westbound traffic (cars moving from east to west). \n",
    "\n",
    "![alt text](i94_figma.png \"Title\")\n",
    "\n",
    "##### Attribute Information:\n",
    "\n",
    "holiday Categorical US National holidays plus regional holiday, Minnesota State Fair\n",
    "\n",
    "temp Numeric Average temp in kelvin\n",
    "\n",
    "rain_1h Numeric Amount in mm of rain that occurred in the hour\n",
    "\n",
    "snow_1h Numeric Amount in mm of snow that occurred in the hour\n",
    "\n",
    "clouds_all Numeric Percentage of cloud cover\n",
    "\n",
    "weather_main Categorical Short textual description of the current weather\n",
    "\n",
    "weather_description Categorical Longer textual description of the current weather\n",
    "\n",
    "date_time DateTime Hour of the data collected in local CST time\n",
    "\n",
    "traffic_volume Numeric Hourly I-94 ATR 301 reported westbound traffic volume (number of cars)\n",
    "\n",
    "##### The dataset can be found at: https://archive.ics.uci.edu/ml/datasets/Metro+Interstate+Traffic+Volume#"
   ]
  },
  {
   "cell_type": "markdown",
   "id": "f257bd5f",
   "metadata": {},
   "source": [
    "### 2. Explore Dataset"
   ]
  },
  {
   "cell_type": "code",
   "execution_count": 1,
   "id": "4b5a51bd",
   "metadata": {},
   "outputs": [],
   "source": [
    "# import libraries\n",
    "\n",
    "import pandas as pd\n",
    "import matplotlib.pyplot as plt\n",
    "%matplotlib inline\n",
    "import numpy as np"
   ]
  },
  {
   "cell_type": "code",
   "execution_count": 2,
   "id": "8baf59be",
   "metadata": {
    "scrolled": true
   },
   "outputs": [
    {
     "data": {
      "text/html": [
       "<div>\n",
       "<style scoped>\n",
       "    .dataframe tbody tr th:only-of-type {\n",
       "        vertical-align: middle;\n",
       "    }\n",
       "\n",
       "    .dataframe tbody tr th {\n",
       "        vertical-align: top;\n",
       "    }\n",
       "\n",
       "    .dataframe thead th {\n",
       "        text-align: right;\n",
       "    }\n",
       "</style>\n",
       "<table border=\"1\" class=\"dataframe\">\n",
       "  <thead>\n",
       "    <tr style=\"text-align: right;\">\n",
       "      <th></th>\n",
       "      <th>holiday</th>\n",
       "      <th>temp</th>\n",
       "      <th>rain_1h</th>\n",
       "      <th>snow_1h</th>\n",
       "      <th>clouds_all</th>\n",
       "      <th>weather_main</th>\n",
       "      <th>weather_description</th>\n",
       "      <th>date_time</th>\n",
       "      <th>traffic_volume</th>\n",
       "    </tr>\n",
       "  </thead>\n",
       "  <tbody>\n",
       "    <tr>\n",
       "      <th>0</th>\n",
       "      <td>None</td>\n",
       "      <td>288.28</td>\n",
       "      <td>0.0</td>\n",
       "      <td>0.0</td>\n",
       "      <td>40</td>\n",
       "      <td>Clouds</td>\n",
       "      <td>scattered clouds</td>\n",
       "      <td>2012-10-02 09:00:00</td>\n",
       "      <td>5545</td>\n",
       "    </tr>\n",
       "    <tr>\n",
       "      <th>1</th>\n",
       "      <td>None</td>\n",
       "      <td>289.36</td>\n",
       "      <td>0.0</td>\n",
       "      <td>0.0</td>\n",
       "      <td>75</td>\n",
       "      <td>Clouds</td>\n",
       "      <td>broken clouds</td>\n",
       "      <td>2012-10-02 10:00:00</td>\n",
       "      <td>4516</td>\n",
       "    </tr>\n",
       "    <tr>\n",
       "      <th>2</th>\n",
       "      <td>None</td>\n",
       "      <td>289.58</td>\n",
       "      <td>0.0</td>\n",
       "      <td>0.0</td>\n",
       "      <td>90</td>\n",
       "      <td>Clouds</td>\n",
       "      <td>overcast clouds</td>\n",
       "      <td>2012-10-02 11:00:00</td>\n",
       "      <td>4767</td>\n",
       "    </tr>\n",
       "    <tr>\n",
       "      <th>3</th>\n",
       "      <td>None</td>\n",
       "      <td>290.13</td>\n",
       "      <td>0.0</td>\n",
       "      <td>0.0</td>\n",
       "      <td>90</td>\n",
       "      <td>Clouds</td>\n",
       "      <td>overcast clouds</td>\n",
       "      <td>2012-10-02 12:00:00</td>\n",
       "      <td>5026</td>\n",
       "    </tr>\n",
       "    <tr>\n",
       "      <th>4</th>\n",
       "      <td>None</td>\n",
       "      <td>291.14</td>\n",
       "      <td>0.0</td>\n",
       "      <td>0.0</td>\n",
       "      <td>75</td>\n",
       "      <td>Clouds</td>\n",
       "      <td>broken clouds</td>\n",
       "      <td>2012-10-02 13:00:00</td>\n",
       "      <td>4918</td>\n",
       "    </tr>\n",
       "    <tr>\n",
       "      <th>...</th>\n",
       "      <td>...</td>\n",
       "      <td>...</td>\n",
       "      <td>...</td>\n",
       "      <td>...</td>\n",
       "      <td>...</td>\n",
       "      <td>...</td>\n",
       "      <td>...</td>\n",
       "      <td>...</td>\n",
       "      <td>...</td>\n",
       "    </tr>\n",
       "    <tr>\n",
       "      <th>48199</th>\n",
       "      <td>None</td>\n",
       "      <td>283.45</td>\n",
       "      <td>0.0</td>\n",
       "      <td>0.0</td>\n",
       "      <td>75</td>\n",
       "      <td>Clouds</td>\n",
       "      <td>broken clouds</td>\n",
       "      <td>2018-09-30 19:00:00</td>\n",
       "      <td>3543</td>\n",
       "    </tr>\n",
       "    <tr>\n",
       "      <th>48200</th>\n",
       "      <td>None</td>\n",
       "      <td>282.76</td>\n",
       "      <td>0.0</td>\n",
       "      <td>0.0</td>\n",
       "      <td>90</td>\n",
       "      <td>Clouds</td>\n",
       "      <td>overcast clouds</td>\n",
       "      <td>2018-09-30 20:00:00</td>\n",
       "      <td>2781</td>\n",
       "    </tr>\n",
       "    <tr>\n",
       "      <th>48201</th>\n",
       "      <td>None</td>\n",
       "      <td>282.73</td>\n",
       "      <td>0.0</td>\n",
       "      <td>0.0</td>\n",
       "      <td>90</td>\n",
       "      <td>Thunderstorm</td>\n",
       "      <td>proximity thunderstorm</td>\n",
       "      <td>2018-09-30 21:00:00</td>\n",
       "      <td>2159</td>\n",
       "    </tr>\n",
       "    <tr>\n",
       "      <th>48202</th>\n",
       "      <td>None</td>\n",
       "      <td>282.09</td>\n",
       "      <td>0.0</td>\n",
       "      <td>0.0</td>\n",
       "      <td>90</td>\n",
       "      <td>Clouds</td>\n",
       "      <td>overcast clouds</td>\n",
       "      <td>2018-09-30 22:00:00</td>\n",
       "      <td>1450</td>\n",
       "    </tr>\n",
       "    <tr>\n",
       "      <th>48203</th>\n",
       "      <td>None</td>\n",
       "      <td>282.12</td>\n",
       "      <td>0.0</td>\n",
       "      <td>0.0</td>\n",
       "      <td>90</td>\n",
       "      <td>Clouds</td>\n",
       "      <td>overcast clouds</td>\n",
       "      <td>2018-09-30 23:00:00</td>\n",
       "      <td>954</td>\n",
       "    </tr>\n",
       "  </tbody>\n",
       "</table>\n",
       "<p>48204 rows × 9 columns</p>\n",
       "</div>"
      ],
      "text/plain": [
       "      holiday    temp  rain_1h  snow_1h  clouds_all  weather_main  \\\n",
       "0        None  288.28      0.0      0.0          40        Clouds   \n",
       "1        None  289.36      0.0      0.0          75        Clouds   \n",
       "2        None  289.58      0.0      0.0          90        Clouds   \n",
       "3        None  290.13      0.0      0.0          90        Clouds   \n",
       "4        None  291.14      0.0      0.0          75        Clouds   \n",
       "...       ...     ...      ...      ...         ...           ...   \n",
       "48199    None  283.45      0.0      0.0          75        Clouds   \n",
       "48200    None  282.76      0.0      0.0          90        Clouds   \n",
       "48201    None  282.73      0.0      0.0          90  Thunderstorm   \n",
       "48202    None  282.09      0.0      0.0          90        Clouds   \n",
       "48203    None  282.12      0.0      0.0          90        Clouds   \n",
       "\n",
       "          weather_description            date_time  traffic_volume  \n",
       "0            scattered clouds  2012-10-02 09:00:00            5545  \n",
       "1               broken clouds  2012-10-02 10:00:00            4516  \n",
       "2             overcast clouds  2012-10-02 11:00:00            4767  \n",
       "3             overcast clouds  2012-10-02 12:00:00            5026  \n",
       "4               broken clouds  2012-10-02 13:00:00            4918  \n",
       "...                       ...                  ...             ...  \n",
       "48199           broken clouds  2018-09-30 19:00:00            3543  \n",
       "48200         overcast clouds  2018-09-30 20:00:00            2781  \n",
       "48201  proximity thunderstorm  2018-09-30 21:00:00            2159  \n",
       "48202         overcast clouds  2018-09-30 22:00:00            1450  \n",
       "48203         overcast clouds  2018-09-30 23:00:00             954  \n",
       "\n",
       "[48204 rows x 9 columns]"
      ]
     },
     "execution_count": 2,
     "metadata": {},
     "output_type": "execute_result"
    }
   ],
   "source": [
    "# read the dataset csv file in pandas\n",
    "\n",
    "traffic = pd.read_csv(r\"C:\\Users\\faraz\\OneDrive\\Data_Analytics\\DQ Projects\\Raw Data\\Metro_Interstate_Traffic_Volume.csv\")\n",
    "\n",
    "#show the first and last 5 rows\n",
    "\n",
    "traffic"
   ]
  },
  {
   "cell_type": "code",
   "execution_count": 3,
   "id": "7dd0c8aa",
   "metadata": {
    "scrolled": true
   },
   "outputs": [
    {
     "name": "stdout",
     "output_type": "stream",
     "text": [
      "<class 'pandas.core.frame.DataFrame'>\n",
      "RangeIndex: 48204 entries, 0 to 48203\n",
      "Data columns (total 9 columns):\n",
      " #   Column               Non-Null Count  Dtype  \n",
      "---  ------               --------------  -----  \n",
      " 0   holiday              48204 non-null  object \n",
      " 1   temp                 48204 non-null  float64\n",
      " 2   rain_1h              48204 non-null  float64\n",
      " 3   snow_1h              48204 non-null  float64\n",
      " 4   clouds_all           48204 non-null  int64  \n",
      " 5   weather_main         48204 non-null  object \n",
      " 6   weather_description  48204 non-null  object \n",
      " 7   date_time            48204 non-null  object \n",
      " 8   traffic_volume       48204 non-null  int64  \n",
      "dtypes: float64(3), int64(2), object(4)\n",
      "memory usage: 3.3+ MB\n"
     ]
    }
   ],
   "source": [
    "traffic.info()"
   ]
  },
  {
   "cell_type": "markdown",
   "id": "c88860aa",
   "metadata": {},
   "source": [
    "In the next exercise, we're going to plot a histogram to visualize the distribution of the traffic_volume column. Plot a histogram to examine the distribution of the traffic_volume column. Use a Pandas method."
   ]
  },
  {
   "cell_type": "code",
   "execution_count": 4,
   "id": "fc5211e1",
   "metadata": {},
   "outputs": [
    {
     "data": {
      "image/png": "[encoded data removed]",
      "text/plain": [
       "<Figure size 432x288 with 1 Axes>"
      ]
     },
     "metadata": {
      "needs_background": "light"
     },
     "output_type": "display_data"
    },
    {
     "data": {
      "text/plain": [
       "count    48204.000000\n",
       "mean      3259.818355\n",
       "std       1986.860670\n",
       "min          0.000000\n",
       "25%       1193.000000\n",
       "50%       3380.000000\n",
       "75%       4933.000000\n",
       "max       7280.000000\n",
       "Name: traffic_volume, dtype: float64"
      ]
     },
     "execution_count": 4,
     "metadata": {},
     "output_type": "execute_result"
    }
   ],
   "source": [
    "# plot histogram to examine distribution of traffic volume\n",
    "\n",
    "plt.hist(traffic[\"traffic_volume\"])\n",
    "plt.show()\n",
    "\n",
    "traffic[\"traffic_volume\"].describe()"
   ]
  },
  {
   "cell_type": "code",
   "execution_count": 5,
   "id": "207d1c91",
   "metadata": {},
   "outputs": [],
   "source": [
    "# change column datatype to datatime \n",
    "\n",
    "traffic['date_time'] = pd.to_datetime(traffic['date_time'])"
   ]
  },
  {
   "cell_type": "markdown",
   "id": "483474f3",
   "metadata": {},
   "source": [
    "### 3. Daytime and nighttime traffic"
   ]
  },
  {
   "cell_type": "markdown",
   "id": "2f38c436",
   "metadata": {},
   "source": [
    "##### About 25% of the time, there were 1,193 cars or fewer passing the station each hour — this probably occurs during the night, or when a road is under construction.\n",
    "\n",
    "##### About 25% of the time, the traffic volume was four times as much (4,933 cars or more). There is a possibility that nighttime and daytime might influence traffic volume.\n",
    "\n",
    "##### We'll divide the dataset into two parts:\n",
    "\n",
    "###### * Daytime sataset: hours from 7 a.m. to 7 p.m. (12 hours)\n",
    "\n",
    "###### *Nighttime dataset: hours from 7 p.m. to 7 a.m. (12 hours)\n",
    "\n",
    "##### While this is not a perfect criterion for distinguishing between nighttime and daytime, it's a good starting point."
   ]
  },
  {
   "cell_type": "code",
   "execution_count": 6,
   "id": "75ad672d",
   "metadata": {},
   "outputs": [],
   "source": [
    "# split data into daytime and nighttime\n",
    "\n",
    "traffic_day = traffic.loc[(traffic['date_time'].dt.hour >= 7) & (traffic['date_time'].dt.hour < 19)]\n",
    "traffic_night = traffic.loc[(traffic['date_time'].dt.hour >= 19) | (traffic['date_time'].dt.hour < 7)]"
   ]
  },
  {
   "cell_type": "code",
   "execution_count": 7,
   "id": "e2a13ba6",
   "metadata": {},
   "outputs": [
    {
     "data": {
      "image/png": "[encoded data removed]",
      "text/plain": [
       "<Figure size 1080x504 with 2 Axes>"
      ]
     },
     "metadata": {
      "needs_background": "light"
     },
     "output_type": "display_data"
    },
    {
     "data": {
      "text/plain": [
       "count    23877.000000\n",
       "mean      4762.047452\n",
       "std       1174.546482\n",
       "min          0.000000\n",
       "25%       4252.000000\n",
       "50%       4820.000000\n",
       "75%       5559.000000\n",
       "max       7280.000000\n",
       "Name: traffic_volume, dtype: float64"
      ]
     },
     "execution_count": 7,
     "metadata": {},
     "output_type": "execute_result"
    }
   ],
   "source": [
    "# use figure to plot two histograms to visually analyze the traffic volume during daytime and nighttime\n",
    "plt.figure(figsize=(15,7))\n",
    "\n",
    "plt.subplot(1, 2, 1)\n",
    "plt.hist(traffic_day[\"traffic_volume\"])\n",
    "plt.title(\"Traffic during the day: 7am-7pm\")\n",
    "plt.xlim([0,7500])\n",
    "plt.ylim([0,8000])\n",
    "plt.ylabel('Frequency')\n",
    "plt.xlabel('Number of cars')\n",
    "\n",
    "plt.subplot(1, 2, 2)\n",
    "plt.xlim([0,7500])\n",
    "plt.ylim([0,8000])\n",
    "plt.title(\"Traffic during the night: 7pm-7am\")\n",
    "plt.hist(traffic_night[\"traffic_volume\"])\n",
    "plt.ylabel('Frequency')\n",
    "plt.xlabel('Number of cars')\n",
    "plt.show()\n",
    "\n",
    "traffic_day[\"traffic_volume\"].describe()"
   ]
  },
  {
   "cell_type": "code",
   "execution_count": 8,
   "id": "a16c9cf6",
   "metadata": {},
   "outputs": [
    {
     "data": {
      "text/plain": [
       "count    24327.000000\n",
       "mean      1785.377441\n",
       "std       1441.951197\n",
       "min          0.000000\n",
       "25%        530.000000\n",
       "50%       1287.000000\n",
       "75%       2819.000000\n",
       "max       6386.000000\n",
       "Name: traffic_volume, dtype: float64"
      ]
     },
     "execution_count": 8,
     "metadata": {},
     "output_type": "execute_result"
    }
   ],
   "source": [
    "traffic_night[\"traffic_volume\"].describe()"
   ]
  },
  {
   "cell_type": "markdown",
   "id": "01bac228",
   "metadata": {},
   "source": [
    "##### As our goal is to find indicators of heavy traffic, we will only focus on the daytime data moving forward."
   ]
  },
  {
   "cell_type": "markdown",
   "id": "cedf12eb",
   "metadata": {},
   "source": [
    "### 4. Traffic during certain day and hour "
   ]
  },
  {
   "cell_type": "markdown",
   "id": "574078fb",
   "metadata": {},
   "source": [
    "##### One of the possible indicators of heavy traffic is time. There might be more people on the road in a certain month, on a certain day, or at a certain time of the day."
   ]
  },
  {
   "cell_type": "code",
   "execution_count": 9,
   "id": "9ec9dcb8",
   "metadata": {},
   "outputs": [
    {
     "name": "stderr",
     "output_type": "stream",
     "text": [
      "<ipython-input-9-cacade6e0997>:5: SettingWithCopyWarning: \n",
      "A value is trying to be set on a copy of a slice from a DataFrame.\n",
      "Try using .loc[row_indexer,col_indexer] = value instead\n",
      "\n",
      "See the caveats in the documentation: https://pandas.pydata.org/pandas-docs/stable/user_guide/indexing.html#returning-a-view-versus-a-copy\n",
      "  traffic_day['month'] = traffic_day['date_time'].dt.month\n"
     ]
    },
    {
     "data": {
      "text/html": [
       "<div>\n",
       "<style scoped>\n",
       "    .dataframe tbody tr th:only-of-type {\n",
       "        vertical-align: middle;\n",
       "    }\n",
       "\n",
       "    .dataframe tbody tr th {\n",
       "        vertical-align: top;\n",
       "    }\n",
       "\n",
       "    .dataframe thead th {\n",
       "        text-align: right;\n",
       "    }\n",
       "</style>\n",
       "<table border=\"1\" class=\"dataframe\">\n",
       "  <thead>\n",
       "    <tr style=\"text-align: right;\">\n",
       "      <th></th>\n",
       "      <th>holiday</th>\n",
       "      <th>temp</th>\n",
       "      <th>rain_1h</th>\n",
       "      <th>snow_1h</th>\n",
       "      <th>clouds_all</th>\n",
       "      <th>weather_main</th>\n",
       "      <th>weather_description</th>\n",
       "      <th>date_time</th>\n",
       "      <th>traffic_volume</th>\n",
       "      <th>month</th>\n",
       "    </tr>\n",
       "  </thead>\n",
       "  <tbody>\n",
       "    <tr>\n",
       "      <th>0</th>\n",
       "      <td>None</td>\n",
       "      <td>288.28</td>\n",
       "      <td>0.0</td>\n",
       "      <td>0.0</td>\n",
       "      <td>40</td>\n",
       "      <td>Clouds</td>\n",
       "      <td>scattered clouds</td>\n",
       "      <td>2012-10-02 09:00:00</td>\n",
       "      <td>5545</td>\n",
       "      <td>10</td>\n",
       "    </tr>\n",
       "    <tr>\n",
       "      <th>1</th>\n",
       "      <td>None</td>\n",
       "      <td>289.36</td>\n",
       "      <td>0.0</td>\n",
       "      <td>0.0</td>\n",
       "      <td>75</td>\n",
       "      <td>Clouds</td>\n",
       "      <td>broken clouds</td>\n",
       "      <td>2012-10-02 10:00:00</td>\n",
       "      <td>4516</td>\n",
       "      <td>10</td>\n",
       "    </tr>\n",
       "    <tr>\n",
       "      <th>2</th>\n",
       "      <td>None</td>\n",
       "      <td>289.58</td>\n",
       "      <td>0.0</td>\n",
       "      <td>0.0</td>\n",
       "      <td>90</td>\n",
       "      <td>Clouds</td>\n",
       "      <td>overcast clouds</td>\n",
       "      <td>2012-10-02 11:00:00</td>\n",
       "      <td>4767</td>\n",
       "      <td>10</td>\n",
       "    </tr>\n",
       "  </tbody>\n",
       "</table>\n",
       "</div>"
      ],
      "text/plain": [
       "  holiday    temp  rain_1h  snow_1h  clouds_all weather_main  \\\n",
       "0    None  288.28      0.0      0.0          40       Clouds   \n",
       "1    None  289.36      0.0      0.0          75       Clouds   \n",
       "2    None  289.58      0.0      0.0          90       Clouds   \n",
       "\n",
       "  weather_description           date_time  traffic_volume  month  \n",
       "0    scattered clouds 2012-10-02 09:00:00            5545     10  \n",
       "1       broken clouds 2012-10-02 10:00:00            4516     10  \n",
       "2     overcast clouds 2012-10-02 11:00:00            4767     10  "
      ]
     },
     "execution_count": 9,
     "metadata": {},
     "output_type": "execute_result"
    }
   ],
   "source": [
    "import warnings\n",
    "warnings.simplefilter(action='ignore', category=FutureWarning)\n",
    "\n",
    "# add new column for month\n",
    "traffic_day['month'] = traffic_day['date_time'].dt.month\n",
    "traffic_day.head(3)"
   ]
  },
  {
   "cell_type": "code",
   "execution_count": 10,
   "id": "d152bc29",
   "metadata": {
    "scrolled": true
   },
   "outputs": [
    {
     "data": {
      "image/png": "[encoded data removed]",
      "text/plain": [
       "<Figure size 432x288 with 1 Axes>"
      ]
     },
     "metadata": {
      "needs_background": "light"
     },
     "output_type": "display_data"
    }
   ],
   "source": [
    "# group by month and extract mean of each column\n",
    "by_month = traffic_day.groupby('month').mean()\n",
    "\n",
    "#plot linear graph to visualize the monthly mean of traffic volume\n",
    "plt.plot(by_month[\"traffic_volume\"])\n",
    "plt.title(\"Average traffic volume by month\")\n",
    "plt.xlim([1,12])\n",
    "plt.xlabel('Month')\n",
    "plt.ylabel('Average Number of Cars')\n",
    "plt.show()"
   ]
  },
  {
   "cell_type": "code",
   "execution_count": 11,
   "id": "88145a0e",
   "metadata": {
    "scrolled": true
   },
   "outputs": [
    {
     "name": "stderr",
     "output_type": "stream",
     "text": [
      "<ipython-input-11-c952e9b1366e>:2: SettingWithCopyWarning: \n",
      "A value is trying to be set on a copy of a slice from a DataFrame.\n",
      "Try using .loc[row_indexer,col_indexer] = value instead\n",
      "\n",
      "See the caveats in the documentation: https://pandas.pydata.org/pandas-docs/stable/user_guide/indexing.html#returning-a-view-versus-a-copy\n",
      "  traffic_day['dayofweek'] = traffic_day['date_time'].dt.dayofweek\n"
     ]
    },
    {
     "data": {
      "text/html": [
       "<div>\n",
       "<style scoped>\n",
       "    .dataframe tbody tr th:only-of-type {\n",
       "        vertical-align: middle;\n",
       "    }\n",
       "\n",
       "    .dataframe tbody tr th {\n",
       "        vertical-align: top;\n",
       "    }\n",
       "\n",
       "    .dataframe thead th {\n",
       "        text-align: right;\n",
       "    }\n",
       "</style>\n",
       "<table border=\"1\" class=\"dataframe\">\n",
       "  <thead>\n",
       "    <tr style=\"text-align: right;\">\n",
       "      <th></th>\n",
       "      <th>holiday</th>\n",
       "      <th>temp</th>\n",
       "      <th>rain_1h</th>\n",
       "      <th>snow_1h</th>\n",
       "      <th>clouds_all</th>\n",
       "      <th>weather_main</th>\n",
       "      <th>weather_description</th>\n",
       "      <th>date_time</th>\n",
       "      <th>traffic_volume</th>\n",
       "      <th>month</th>\n",
       "      <th>dayofweek</th>\n",
       "    </tr>\n",
       "  </thead>\n",
       "  <tbody>\n",
       "    <tr>\n",
       "      <th>0</th>\n",
       "      <td>None</td>\n",
       "      <td>288.28</td>\n",
       "      <td>0.0</td>\n",
       "      <td>0.0</td>\n",
       "      <td>40</td>\n",
       "      <td>Clouds</td>\n",
       "      <td>scattered clouds</td>\n",
       "      <td>2012-10-02 09:00:00</td>\n",
       "      <td>5545</td>\n",
       "      <td>10</td>\n",
       "      <td>1</td>\n",
       "    </tr>\n",
       "    <tr>\n",
       "      <th>1</th>\n",
       "      <td>None</td>\n",
       "      <td>289.36</td>\n",
       "      <td>0.0</td>\n",
       "      <td>0.0</td>\n",
       "      <td>75</td>\n",
       "      <td>Clouds</td>\n",
       "      <td>broken clouds</td>\n",
       "      <td>2012-10-02 10:00:00</td>\n",
       "      <td>4516</td>\n",
       "      <td>10</td>\n",
       "      <td>1</td>\n",
       "    </tr>\n",
       "    <tr>\n",
       "      <th>2</th>\n",
       "      <td>None</td>\n",
       "      <td>289.58</td>\n",
       "      <td>0.0</td>\n",
       "      <td>0.0</td>\n",
       "      <td>90</td>\n",
       "      <td>Clouds</td>\n",
       "      <td>overcast clouds</td>\n",
       "      <td>2012-10-02 11:00:00</td>\n",
       "      <td>4767</td>\n",
       "      <td>10</td>\n",
       "      <td>1</td>\n",
       "    </tr>\n",
       "  </tbody>\n",
       "</table>\n",
       "</div>"
      ],
      "text/plain": [
       "  holiday    temp  rain_1h  snow_1h  clouds_all weather_main  \\\n",
       "0    None  288.28      0.0      0.0          40       Clouds   \n",
       "1    None  289.36      0.0      0.0          75       Clouds   \n",
       "2    None  289.58      0.0      0.0          90       Clouds   \n",
       "\n",
       "  weather_description           date_time  traffic_volume  month  dayofweek  \n",
       "0    scattered clouds 2012-10-02 09:00:00            5545     10          1  \n",
       "1       broken clouds 2012-10-02 10:00:00            4516     10          1  \n",
       "2     overcast clouds 2012-10-02 11:00:00            4767     10          1  "
      ]
     },
     "execution_count": 11,
     "metadata": {},
     "output_type": "execute_result"
    }
   ],
   "source": [
    "# add new column for day of the week\n",
    "traffic_day['dayofweek'] = traffic_day['date_time'].dt.dayofweek\n",
    "traffic_day.head(3)"
   ]
  },
  {
   "cell_type": "code",
   "execution_count": 12,
   "id": "484ed8c0",
   "metadata": {},
   "outputs": [
    {
     "data": {
      "image/png": "[encoded data removed]",
      "text/plain": [
       "<Figure size 432x288 with 1 Axes>"
      ]
     },
     "metadata": {
      "needs_background": "light"
     },
     "output_type": "display_data"
    }
   ],
   "source": [
    "#group by day of the week and extract daily mean of traffic volume\n",
    "by_dayofweek = traffic_day.groupby('dayofweek').mean()\n",
    "by_dayofweek['traffic_volume'] # 0 is Monday, 6 is Sunday\n",
    "\n",
    "# plot linear graph to visualize the daily mean of traffic volume\n",
    "plt.plot(by_dayofweek['traffic_volume'])\n",
    "plt.title(\"Average traffic volume by day\")\n",
    "plt.xticks(ticks=[0,1,2,3,4,5,6], labels=['Monday', 'Tuesday', 'Wednesday', 'Thursday', 'Friday', 'Saturday', 'Sunday'], rotation=30)\n",
    "plt.ylabel('Average Number of Cars')\n",
    "plt.show()"
   ]
  },
  {
   "cell_type": "markdown",
   "id": "13a21056",
   "metadata": {},
   "source": [
    "##### The traffic volume is significantly heavier on business days compared to the weekends.\n",
    "\n",
    "##### The traffic volume is significantly light from November to February. This means that the traffic is usually heavier during warm months (March–October) compared to cold months (November–February)."
   ]
  },
  {
   "cell_type": "markdown",
   "id": "60690570",
   "metadata": {},
   "source": [
    "### 5. Traffic during different time of the day"
   ]
  },
  {
   "cell_type": "markdown",
   "id": "6e53a387",
   "metadata": {},
   "source": [
    "##### We'll will now look at the traffic at different time of the day. The weekends, however, will drag down the average values, so we're going to look at the averages separately. To do that, we'll start by splitting the data based on the day type: business day or weekend."
   ]
  },
  {
   "cell_type": "code",
   "execution_count": 13,
   "id": "d436a8bb",
   "metadata": {},
   "outputs": [
    {
     "name": "stderr",
     "output_type": "stream",
     "text": [
      "<ipython-input-13-0680075e5bc5>:2: SettingWithCopyWarning: \n",
      "A value is trying to be set on a copy of a slice from a DataFrame.\n",
      "Try using .loc[row_indexer,col_indexer] = value instead\n",
      "\n",
      "See the caveats in the documentation: https://pandas.pydata.org/pandas-docs/stable/user_guide/indexing.html#returning-a-view-versus-a-copy\n",
      "  traffic_day['hour'] = traffic_day['date_time'].dt.hour\n"
     ]
    },
    {
     "data": {
      "text/html": [
       "<div>\n",
       "<style scoped>\n",
       "    .dataframe tbody tr th:only-of-type {\n",
       "        vertical-align: middle;\n",
       "    }\n",
       "\n",
       "    .dataframe tbody tr th {\n",
       "        vertical-align: top;\n",
       "    }\n",
       "\n",
       "    .dataframe thead th {\n",
       "        text-align: right;\n",
       "    }\n",
       "</style>\n",
       "<table border=\"1\" class=\"dataframe\">\n",
       "  <thead>\n",
       "    <tr style=\"text-align: right;\">\n",
       "      <th></th>\n",
       "      <th>holiday</th>\n",
       "      <th>temp</th>\n",
       "      <th>rain_1h</th>\n",
       "      <th>snow_1h</th>\n",
       "      <th>clouds_all</th>\n",
       "      <th>weather_main</th>\n",
       "      <th>weather_description</th>\n",
       "      <th>date_time</th>\n",
       "      <th>traffic_volume</th>\n",
       "      <th>month</th>\n",
       "      <th>dayofweek</th>\n",
       "      <th>hour</th>\n",
       "    </tr>\n",
       "  </thead>\n",
       "  <tbody>\n",
       "    <tr>\n",
       "      <th>0</th>\n",
       "      <td>None</td>\n",
       "      <td>288.28</td>\n",
       "      <td>0.0</td>\n",
       "      <td>0.0</td>\n",
       "      <td>40</td>\n",
       "      <td>Clouds</td>\n",
       "      <td>scattered clouds</td>\n",
       "      <td>2012-10-02 09:00:00</td>\n",
       "      <td>5545</td>\n",
       "      <td>10</td>\n",
       "      <td>1</td>\n",
       "      <td>9</td>\n",
       "    </tr>\n",
       "    <tr>\n",
       "      <th>1</th>\n",
       "      <td>None</td>\n",
       "      <td>289.36</td>\n",
       "      <td>0.0</td>\n",
       "      <td>0.0</td>\n",
       "      <td>75</td>\n",
       "      <td>Clouds</td>\n",
       "      <td>broken clouds</td>\n",
       "      <td>2012-10-02 10:00:00</td>\n",
       "      <td>4516</td>\n",
       "      <td>10</td>\n",
       "      <td>1</td>\n",
       "      <td>10</td>\n",
       "    </tr>\n",
       "    <tr>\n",
       "      <th>2</th>\n",
       "      <td>None</td>\n",
       "      <td>289.58</td>\n",
       "      <td>0.0</td>\n",
       "      <td>0.0</td>\n",
       "      <td>90</td>\n",
       "      <td>Clouds</td>\n",
       "      <td>overcast clouds</td>\n",
       "      <td>2012-10-02 11:00:00</td>\n",
       "      <td>4767</td>\n",
       "      <td>10</td>\n",
       "      <td>1</td>\n",
       "      <td>11</td>\n",
       "    </tr>\n",
       "    <tr>\n",
       "      <th>3</th>\n",
       "      <td>None</td>\n",
       "      <td>290.13</td>\n",
       "      <td>0.0</td>\n",
       "      <td>0.0</td>\n",
       "      <td>90</td>\n",
       "      <td>Clouds</td>\n",
       "      <td>overcast clouds</td>\n",
       "      <td>2012-10-02 12:00:00</td>\n",
       "      <td>5026</td>\n",
       "      <td>10</td>\n",
       "      <td>1</td>\n",
       "      <td>12</td>\n",
       "    </tr>\n",
       "    <tr>\n",
       "      <th>4</th>\n",
       "      <td>None</td>\n",
       "      <td>291.14</td>\n",
       "      <td>0.0</td>\n",
       "      <td>0.0</td>\n",
       "      <td>75</td>\n",
       "      <td>Clouds</td>\n",
       "      <td>broken clouds</td>\n",
       "      <td>2012-10-02 13:00:00</td>\n",
       "      <td>4918</td>\n",
       "      <td>10</td>\n",
       "      <td>1</td>\n",
       "      <td>13</td>\n",
       "    </tr>\n",
       "  </tbody>\n",
       "</table>\n",
       "</div>"
      ],
      "text/plain": [
       "  holiday    temp  rain_1h  snow_1h  clouds_all weather_main  \\\n",
       "0    None  288.28      0.0      0.0          40       Clouds   \n",
       "1    None  289.36      0.0      0.0          75       Clouds   \n",
       "2    None  289.58      0.0      0.0          90       Clouds   \n",
       "3    None  290.13      0.0      0.0          90       Clouds   \n",
       "4    None  291.14      0.0      0.0          75       Clouds   \n",
       "\n",
       "  weather_description           date_time  traffic_volume  month  dayofweek  \\\n",
       "0    scattered clouds 2012-10-02 09:00:00            5545     10          1   \n",
       "1       broken clouds 2012-10-02 10:00:00            4516     10          1   \n",
       "2     overcast clouds 2012-10-02 11:00:00            4767     10          1   \n",
       "3     overcast clouds 2012-10-02 12:00:00            5026     10          1   \n",
       "4       broken clouds 2012-10-02 13:00:00            4918     10          1   \n",
       "\n",
       "   hour  \n",
       "0     9  \n",
       "1    10  \n",
       "2    11  \n",
       "3    12  \n",
       "4    13  "
      ]
     },
     "execution_count": 13,
     "metadata": {},
     "output_type": "execute_result"
    }
   ],
   "source": [
    "# add new column for hour of the day\n",
    "traffic_day['hour'] = traffic_day['date_time'].dt.hour\n",
    "traffic_day.head(5)"
   ]
  },
  {
   "cell_type": "code",
   "execution_count": 14,
   "id": "2c1768b8",
   "metadata": {},
   "outputs": [
    {
     "data": {
      "text/plain": [
       "hour\n",
       "7     6030.413559\n",
       "8     5503.497970\n",
       "9     4895.269257\n",
       "10    4378.419118\n",
       "11    4633.419470\n",
       "12    4855.382143\n",
       "13    4859.180473\n",
       "14    5152.995778\n",
       "15    5592.897768\n",
       "16    6189.473647\n",
       "17    5784.827133\n",
       "18    4434.209431\n",
       "Name: traffic_volume, dtype: float64"
      ]
     },
     "execution_count": 14,
     "metadata": {},
     "output_type": "execute_result"
    }
   ],
   "source": [
    "# extract business day and weekend data\n",
    "traffic_day_bussiness = traffic_day.copy()[traffic_day['dayofweek'] <= 4]\n",
    "traffic_day_weekend = traffic_day.copy()[traffic_day['dayofweek'] >= 5]\n",
    "\n",
    "#group by day of the week and extract mean for business days\n",
    "traffic_day_bussiness_byhour = traffic_day_bussiness.groupby('hour').mean()\n",
    "traffic_day_bussiness_byhour[\"traffic_volume\"]"
   ]
  },
  {
   "cell_type": "code",
   "execution_count": 15,
   "id": "61a65447",
   "metadata": {},
   "outputs": [
    {
     "data": {
      "text/plain": [
       "hour\n",
       "7     1589.365894\n",
       "8     2338.578073\n",
       "9     3111.623917\n",
       "10    3686.632302\n",
       "11    4044.154955\n",
       "12    4372.482883\n",
       "13    4362.296564\n",
       "14    4358.543796\n",
       "15    4342.456881\n",
       "16    4339.693805\n",
       "17    4151.919929\n",
       "18    3811.792279\n",
       "Name: traffic_volume, dtype: float64"
      ]
     },
     "execution_count": 15,
     "metadata": {},
     "output_type": "execute_result"
    }
   ],
   "source": [
    "#group by day of the week and extract mean for weekend\n",
    "traffic_day_weekend_byhour = traffic_day_weekend.groupby('hour').mean()\n",
    "traffic_day_weekend_byhour[\"traffic_volume\"]"
   ]
  },
  {
   "cell_type": "code",
   "execution_count": 16,
   "id": "4bcc8f01",
   "metadata": {
    "scrolled": false
   },
   "outputs": [
    {
     "data": {
      "image/png": "[encoded data removed]",
      "text/plain": [
       "<Figure size 1080x504 with 2 Axes>"
      ]
     },
     "metadata": {
      "needs_background": "light"
     },
     "output_type": "display_data"
    }
   ],
   "source": [
    "# plot linear graph to visualize the hourly mean of traffic volume\n",
    "\n",
    "plt.figure(figsize=(15,7))\n",
    "\n",
    "plt.subplot(1,2,1) # for business days\n",
    "plt.plot(traffic_day_bussiness_byhour[\"traffic_volume\"])\n",
    "plt.title(\"Traffic by hour during weekdays (7am-7pm)\")\n",
    "plt.ylabel('Average number of cars')\n",
    "plt.xlabel('Hour of the day')\n",
    "plt.xticks(ticks=[8,10,12,14,16,18], labels=[\"8am\",\"10am\",\"12pm\",\"2pm\",\"4pm\",\"6pm\"])\n",
    "\n",
    "plt.subplot(1,2,2) # for weekends\n",
    "plt.plot(traffic_day_weekend_byhour[\"traffic_volume\"])\n",
    "plt.title(\"Traffic by hour during weekend (7am-7pm)\")\n",
    "plt.ylabel('Average number of cars')\n",
    "plt.xlabel('Hour of the day')\n",
    "plt.xticks(ticks=[8,10,12,14,16,18], labels=[\"8am\",\"10am\",\"12pm\",\"2pm\",\"4pm\",\"6pm\"])\n",
    "plt.show()"
   ]
  },
  {
   "cell_type": "markdown",
   "id": "59361689",
   "metadata": {},
   "source": [
    "##### The traffic is usually heavier on business days compared to weekends. On business days, the rush hours are around the 7th and 16th hour."
   ]
  },
  {
   "cell_type": "markdown",
   "id": "49390ab3",
   "metadata": {},
   "source": [
    "### 6. Correlation "
   ]
  },
  {
   "cell_type": "markdown",
   "id": "6ee16ade",
   "metadata": {},
   "source": [
    "##### Correlation values between traffic_volume and the numerical weather columns."
   ]
  },
  {
   "cell_type": "code",
   "execution_count": 17,
   "id": "1788f1a7",
   "metadata": {
    "scrolled": true
   },
   "outputs": [
    {
     "data": {
      "text/plain": [
       "temp              0.128317\n",
       "rain_1h           0.003697\n",
       "snow_1h           0.001265\n",
       "clouds_all       -0.032932\n",
       "traffic_volume    1.000000\n",
       "month            -0.022337\n",
       "dayofweek        -0.416453\n",
       "hour              0.172704\n",
       "Name: traffic_volume, dtype: float64"
      ]
     },
     "execution_count": 17,
     "metadata": {},
     "output_type": "execute_result"
    }
   ],
   "source": [
    "traffic_day.corr()['traffic_volume']"
   ]
  },
  {
   "cell_type": "markdown",
   "id": "746efa69",
   "metadata": {},
   "source": [
    "##### There does not seem to be any significant correlations for the above columns. \n",
    "\n",
    "##### We will look at the 2 nonnumeric columns: weather_main and weather_description."
   ]
  },
  {
   "cell_type": "code",
   "execution_count": 18,
   "id": "d4a3738e",
   "metadata": {},
   "outputs": [
    {
     "data": {
      "text/plain": [
       "weather_main\n",
       "Clear           4778.416260\n",
       "Clouds          4865.415996\n",
       "Drizzle         4837.212911\n",
       "Fog             4372.491713\n",
       "Haze            4609.893285\n",
       "Mist            4623.976475\n",
       "Rain            4815.568462\n",
       "Smoke           4564.583333\n",
       "Snow            4396.321183\n",
       "Squall          4211.000000\n",
       "Thunderstorm    4648.212860\n",
       "Name: traffic_volume, dtype: float64"
      ]
     },
     "execution_count": 18,
     "metadata": {},
     "output_type": "execute_result"
    }
   ],
   "source": [
    "# group by weather_main and calculate the mean\n",
    "traffic_day_by_weather_main = traffic_day.groupby('weather_main').mean()\n",
    "\n",
    "# group by weather_description and calculate the mean\n",
    "traffic_day_by_weather_description = traffic_day.groupby('weather_description').mean()\n",
    "\n",
    "traffic_day_by_weather_main[\"traffic_volume\"]"
   ]
  },
  {
   "cell_type": "code",
   "execution_count": 19,
   "id": "2433b70a",
   "metadata": {},
   "outputs": [
    {
     "data": {
      "text/plain": [
       "weather_description\n",
       "SQUALLS                                4211.000000\n",
       "Sky is Clear                           4919.009390\n",
       "broken clouds                          4824.130326\n",
       "drizzle                                4737.330935\n",
       "few clouds                             4839.818023\n",
       "fog                                    4372.491713\n",
       "freezing rain                          4314.000000\n",
       "haze                                   4609.893285\n",
       "heavy intensity drizzle                4738.586207\n",
       "heavy intensity rain                   4610.356164\n",
       "heavy snow                             4411.681250\n",
       "light intensity drizzle                4890.164049\n",
       "light intensity shower rain            4558.100000\n",
       "light rain                             4859.650849\n",
       "light rain and snow                    5579.750000\n",
       "light shower snow                      4618.636364\n",
       "light snow                             4430.858896\n",
       "mist                                   4623.976475\n",
       "moderate rain                          4769.643312\n",
       "overcast clouds                        4861.124952\n",
       "proximity shower rain                  4901.756757\n",
       "proximity thunderstorm                 4684.356436\n",
       "proximity thunderstorm with drizzle    5121.833333\n",
       "proximity thunderstorm with rain       4501.611111\n",
       "scattered clouds                       4936.787712\n",
       "shower drizzle                         4932.666667\n",
       "shower snow                            5664.000000\n",
       "sky is clear                           4753.930294\n",
       "sleet                                  4312.666667\n",
       "smoke                                  4564.583333\n",
       "snow                                   4054.065693\n",
       "thunderstorm                           4724.708333\n",
       "thunderstorm with drizzle              2297.000000\n",
       "thunderstorm with heavy rain           4555.760000\n",
       "thunderstorm with light drizzle        4960.000000\n",
       "thunderstorm with light rain           4336.130435\n",
       "thunderstorm with rain                 4522.950000\n",
       "very heavy rain                        4780.571429\n",
       "Name: traffic_volume, dtype: float64"
      ]
     },
     "execution_count": 19,
     "metadata": {},
     "output_type": "execute_result"
    }
   ],
   "source": [
    "traffic_day_by_weather_description[\"traffic_volume\"]"
   ]
  },
  {
   "cell_type": "code",
   "execution_count": 20,
   "id": "6a1c87a0",
   "metadata": {},
   "outputs": [
    {
     "data": {
      "image/png": "[encoded data removed]",
      "text/plain": [
       "<Figure size 720x720 with 1 Axes>"
      ]
     },
     "metadata": {
      "needs_background": "light"
     },
     "output_type": "display_data"
    }
   ],
   "source": [
    "# plot horizontal bar to visualize the mean \n",
    "traffic_day_by_weather_main[\"traffic_volume\"].plot.barh(figsize=(10,10))\n",
    "plt.show()"
   ]
  },
  {
   "cell_type": "code",
   "execution_count": 21,
   "id": "49651cc8",
   "metadata": {
    "scrolled": false
   },
   "outputs": [
    {
     "data": {
      "image/png": "[encoded data removed]",
      "text/plain": [
       "<Figure size 360x1440 with 1 Axes>"
      ]
     },
     "metadata": {
      "needs_background": "light"
     },
     "output_type": "display_data"
    }
   ],
   "source": [
    "# plot horizontal bar to visualize the mean\n",
    "traffic_day_by_weather_description[\"traffic_volume\"].plot.barh(figsize=(5,20))\n",
    "plt.show()"
   ]
  },
  {
   "cell_type": "markdown",
   "id": "0fabbe35",
   "metadata": {},
   "source": [
    "### 7. Conclusion"
   ]
  },
  {
   "cell_type": "markdown",
   "id": "4a93d9e9",
   "metadata": {},
   "source": [
    "##### In this project, we tried to find a few indicators of heavy traffic on the I-94 Interstate highway. We managed to find two types of indicators:\n",
    "\n",
    "##### Time indicators: \n",
    "##### The traffic is usually heavier during warm months (March–October) compared to cold months (November–February). The traffic is usually heavier on business days compared to the weekends. On business days, the rush hours are around 7 and 16.\n",
    "\n",
    "##### Weather indicators: \n",
    "##### The traffic is usually heavier during shower snow, light rain and snow and proximity thunderstorm with drizzle.\n",
    "\n"
   ]
  }
 ],
 "metadata": {
  "hide_input": false,
  "kernelspec": {
   "display_name": "Python 3",
   "language": "python",
   "name": "python3"
  },
  "language_info": {
   "codemirror_mode": {
    "name": "ipython",
    "version": 3
   },
   "file_extension": ".py",
   "mimetype": "text/x-python",
   "name": "python",
   "nbconvert_exporter": "python",
   "pygments_lexer": "ipython3",
   "version": "3.8.8"
  },
  "latex_envs": {
   "LaTeX_envs_menu_present": true,
   "autoclose": false,
   "autocomplete": true,
   "bibliofile": "biblio.bib",
   "cite_by": "apalike",
   "current_citInitial": 1,
   "eqLabelWithNumbers": true,
   "eqNumInitial": 1,
   "hotkeys": {
    "equation": "Ctrl-E",
    "itemize": "Ctrl-I"
   },
   "labels_anchors": false,
   "latex_user_defs": false,
   "report_style_numbering": false,
   "user_envs_cfg": false
  }
 },
 "nbformat": 4,
 "nbformat_minor": 5
}
