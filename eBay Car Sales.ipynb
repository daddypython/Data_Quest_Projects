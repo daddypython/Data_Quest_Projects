{
 "cells": [
  {
   "cell_type": "markdown",
   "id": "42cd0d70",
   "metadata": {},
   "source": [
    "# Project Title: eBay Car Sales Data\n",
    "\n",
    "eBay Motors is one of the world's largest marketplaces for trading used cars. The dataset of eBay used cars is analysed in this project. The dataset includes used cars advertisements listed in Germany between 11th June 2015 and 7th April 2016. This dataset is taken from from eBay Kleinanzeigen, a classifieds section of the German eBay website.\n",
    "\n",
    "The original dataset can be found at https://data.world/data-society/used-cars-data. For the purpose of this project, the original dataset was reduced to 50,000 listings.The reduced dataset used for this project is saved as \"autos.csv\". \n",
    "\n",
    "In the data cleaning process below, the listings are further reduced to 44,870. Among others, rows with vehicles registerd before 1986 (vehicles categorised as antique in Germany) are removed.  \n",
    "\n",
    "### Project Findings - Highlights:\n",
    "* Almost 70% of the vehicles are 9 years or older, out of which, about 8% of the vehicles are 20 years older or older. \n",
    "* Between 11 June 2015 - 7 April 2016, overall, about 99.8% of the listings were created in a period of 38 days (in March and April 2016). \n",
    "The top 6 brand-model combination have, among others, 2 things in common. More than 2/3 of these listings have their 'gearbox' listed as 'manual' and majority of these manually driven vahicles were driven for 150,000km.   \n",
    "\n",
    "### Project Purpose:\n",
    "\n",
    "Below, the data is analysed for vehicles registered between 1986 and 2016. The findings are produced in Part E of this project (below). \n",
    "\n",
    "\n",
    "   ####  ---} Part E: Data Analysis\n",
    "    --> 5. Analyse the data to:\n",
    "        5.1. Calculate the distribution based on the column: 'reg_year'.\n",
    "        5.2. Calculate the distribution based on the columns: 'date_crawled', 'ad_created' and 'last_seen'.\n",
    "        5.3  Select brand and aggregating mean price.\n",
    "        5.4. Calculate the mean mileage and mean price for each of the top brands.\n",
    "        5.5. Find the most common brand/model combinations\n",
    "        5.6. Find out if the average prices follows any patterns based on the mileage.\n",
    "        5.7. Find out how much cheaper are cars with damage than their non-damaged counterparts.\n",
    "\n",
    "##### Before Part E, the following tasks are carried out. \n",
    "\n",
    "   ####  ---} Part A: Original Dataset\n",
    "    ---> 1. How the original dataset is organised\n",
    "        1.1.  Observation\n",
    "    \n",
    "#### ---} Part B: Reorganising Dataset\n",
    "\n",
    "    ---> 2. Rows & Columns\n",
    "        2.1. Review of unique values returned as NaN.\n",
    "        2.2. Review of columns with only 2 unique values.\n",
    "        2.3. Convert datetype of 'price' and 'odometer' columns from object to integer.\n",
    "        2.4. Translate non-English word to English words. \n",
    "        2.5. Chang the use camelcase to snakecase in the names of columns and reorganising the columns.\n",
    "\n",
    "\n",
    "#### ---} Part C: Organised Dataset\n",
    "\n",
    "    ---> 3. Quick Review of the organised dataset.\n",
    "\n",
    "#### ---} Part D: Cleaning Data Entries\n",
    "\n",
    "    ---> 4. Data entries\n",
    "        4.1. Remove data for antique vehicles from the columns: 'reg_year'.\n",
    "        4.2. Remove inaccurate entries in the column: 'reg_year'.\n",
    "        4.3. Review data entry for columns: 'reg_month'.\n",
    "        4.4. Check for outliers in the column: 'adometer_km'.\n",
    "        4.5. Check for outliers in the column: 'price_$'.\n",
    "       \n"
   ]
  },
  {
   "cell_type": "markdown",
   "id": "846cf155",
   "metadata": {},
   "source": [
    "# Part A: Original Dataset"
   ]
  },
  {
   "cell_type": "markdown",
   "id": "d6e36cbd",
   "metadata": {},
   "source": [
    "# 1: How the original dataset is organised"
   ]
  },
  {
   "cell_type": "code",
   "execution_count": 1,
   "id": "a592aa73",
   "metadata": {
    "scrolled": true
   },
   "outputs": [],
   "source": [
    "import pandas as pd\n",
    "import numpy as np\n",
    "autos = pd.read_csv(\"autos.csv\")"
   ]
  },
  {
   "cell_type": "code",
   "execution_count": 2,
   "id": "330ccc92",
   "metadata": {},
   "outputs": [
    {
     "data": {
      "text/html": [
       "<div>\n",
       "<style scoped>\n",
       "    .dataframe tbody tr th:only-of-type {\n",
       "        vertical-align: middle;\n",
       "    }\n",
       "\n",
       "    .dataframe tbody tr th {\n",
       "        vertical-align: top;\n",
       "    }\n",
       "\n",
       "    .dataframe thead th {\n",
       "        text-align: right;\n",
       "    }\n",
       "</style>\n",
       "<table border=\"1\" class=\"dataframe\">\n",
       "  <thead>\n",
       "    <tr style=\"text-align: right;\">\n",
       "      <th></th>\n",
       "      <th>dateCrawled</th>\n",
       "      <th>name</th>\n",
       "      <th>seller</th>\n",
       "      <th>offerType</th>\n",
       "      <th>price</th>\n",
       "      <th>abtest</th>\n",
       "      <th>vehicleType</th>\n",
       "      <th>yearOfRegistration</th>\n",
       "      <th>gearbox</th>\n",
       "      <th>powerPS</th>\n",
       "      <th>model</th>\n",
       "      <th>odometer</th>\n",
       "      <th>monthOfRegistration</th>\n",
       "      <th>fuelType</th>\n",
       "      <th>brand</th>\n",
       "      <th>notRepairedDamage</th>\n",
       "      <th>dateCreated</th>\n",
       "      <th>nrOfPictures</th>\n",
       "      <th>postalCode</th>\n",
       "      <th>lastSeen</th>\n",
       "    </tr>\n",
       "  </thead>\n",
       "  <tbody>\n",
       "    <tr>\n",
       "      <th>count</th>\n",
       "      <td>50000</td>\n",
       "      <td>50000</td>\n",
       "      <td>50000</td>\n",
       "      <td>50000</td>\n",
       "      <td>50000</td>\n",
       "      <td>50000</td>\n",
       "      <td>44905</td>\n",
       "      <td>50000.000000</td>\n",
       "      <td>47320</td>\n",
       "      <td>50000.000000</td>\n",
       "      <td>47242</td>\n",
       "      <td>50000</td>\n",
       "      <td>50000.000000</td>\n",
       "      <td>45518</td>\n",
       "      <td>50000</td>\n",
       "      <td>40171</td>\n",
       "      <td>50000</td>\n",
       "      <td>50000.0</td>\n",
       "      <td>50000.000000</td>\n",
       "      <td>50000</td>\n",
       "    </tr>\n",
       "    <tr>\n",
       "      <th>unique</th>\n",
       "      <td>48213</td>\n",
       "      <td>38754</td>\n",
       "      <td>2</td>\n",
       "      <td>2</td>\n",
       "      <td>2357</td>\n",
       "      <td>2</td>\n",
       "      <td>8</td>\n",
       "      <td>NaN</td>\n",
       "      <td>2</td>\n",
       "      <td>NaN</td>\n",
       "      <td>245</td>\n",
       "      <td>13</td>\n",
       "      <td>NaN</td>\n",
       "      <td>7</td>\n",
       "      <td>40</td>\n",
       "      <td>2</td>\n",
       "      <td>76</td>\n",
       "      <td>NaN</td>\n",
       "      <td>NaN</td>\n",
       "      <td>39481</td>\n",
       "    </tr>\n",
       "    <tr>\n",
       "      <th>top</th>\n",
       "      <td>2016-03-29 23:42:13</td>\n",
       "      <td>Ford_Fiesta</td>\n",
       "      <td>privat</td>\n",
       "      <td>Angebot</td>\n",
       "      <td>$0</td>\n",
       "      <td>test</td>\n",
       "      <td>limousine</td>\n",
       "      <td>NaN</td>\n",
       "      <td>manuell</td>\n",
       "      <td>NaN</td>\n",
       "      <td>golf</td>\n",
       "      <td>150,000km</td>\n",
       "      <td>NaN</td>\n",
       "      <td>benzin</td>\n",
       "      <td>volkswagen</td>\n",
       "      <td>nein</td>\n",
       "      <td>2016-04-03 00:00:00</td>\n",
       "      <td>NaN</td>\n",
       "      <td>NaN</td>\n",
       "      <td>2016-04-07 06:17:27</td>\n",
       "    </tr>\n",
       "    <tr>\n",
       "      <th>freq</th>\n",
       "      <td>3</td>\n",
       "      <td>78</td>\n",
       "      <td>49999</td>\n",
       "      <td>49999</td>\n",
       "      <td>1421</td>\n",
       "      <td>25756</td>\n",
       "      <td>12859</td>\n",
       "      <td>NaN</td>\n",
       "      <td>36993</td>\n",
       "      <td>NaN</td>\n",
       "      <td>4024</td>\n",
       "      <td>32424</td>\n",
       "      <td>NaN</td>\n",
       "      <td>30107</td>\n",
       "      <td>10687</td>\n",
       "      <td>35232</td>\n",
       "      <td>1946</td>\n",
       "      <td>NaN</td>\n",
       "      <td>NaN</td>\n",
       "      <td>8</td>\n",
       "    </tr>\n",
       "    <tr>\n",
       "      <th>mean</th>\n",
       "      <td>NaN</td>\n",
       "      <td>NaN</td>\n",
       "      <td>NaN</td>\n",
       "      <td>NaN</td>\n",
       "      <td>NaN</td>\n",
       "      <td>NaN</td>\n",
       "      <td>NaN</td>\n",
       "      <td>2005.073280</td>\n",
       "      <td>NaN</td>\n",
       "      <td>116.355920</td>\n",
       "      <td>NaN</td>\n",
       "      <td>NaN</td>\n",
       "      <td>5.723360</td>\n",
       "      <td>NaN</td>\n",
       "      <td>NaN</td>\n",
       "      <td>NaN</td>\n",
       "      <td>NaN</td>\n",
       "      <td>0.0</td>\n",
       "      <td>50813.627300</td>\n",
       "      <td>NaN</td>\n",
       "    </tr>\n",
       "    <tr>\n",
       "      <th>std</th>\n",
       "      <td>NaN</td>\n",
       "      <td>NaN</td>\n",
       "      <td>NaN</td>\n",
       "      <td>NaN</td>\n",
       "      <td>NaN</td>\n",
       "      <td>NaN</td>\n",
       "      <td>NaN</td>\n",
       "      <td>105.712813</td>\n",
       "      <td>NaN</td>\n",
       "      <td>209.216627</td>\n",
       "      <td>NaN</td>\n",
       "      <td>NaN</td>\n",
       "      <td>3.711984</td>\n",
       "      <td>NaN</td>\n",
       "      <td>NaN</td>\n",
       "      <td>NaN</td>\n",
       "      <td>NaN</td>\n",
       "      <td>0.0</td>\n",
       "      <td>25779.747957</td>\n",
       "      <td>NaN</td>\n",
       "    </tr>\n",
       "    <tr>\n",
       "      <th>min</th>\n",
       "      <td>NaN</td>\n",
       "      <td>NaN</td>\n",
       "      <td>NaN</td>\n",
       "      <td>NaN</td>\n",
       "      <td>NaN</td>\n",
       "      <td>NaN</td>\n",
       "      <td>NaN</td>\n",
       "      <td>1000.000000</td>\n",
       "      <td>NaN</td>\n",
       "      <td>0.000000</td>\n",
       "      <td>NaN</td>\n",
       "      <td>NaN</td>\n",
       "      <td>0.000000</td>\n",
       "      <td>NaN</td>\n",
       "      <td>NaN</td>\n",
       "      <td>NaN</td>\n",
       "      <td>NaN</td>\n",
       "      <td>0.0</td>\n",
       "      <td>1067.000000</td>\n",
       "      <td>NaN</td>\n",
       "    </tr>\n",
       "    <tr>\n",
       "      <th>25%</th>\n",
       "      <td>NaN</td>\n",
       "      <td>NaN</td>\n",
       "      <td>NaN</td>\n",
       "      <td>NaN</td>\n",
       "      <td>NaN</td>\n",
       "      <td>NaN</td>\n",
       "      <td>NaN</td>\n",
       "      <td>1999.000000</td>\n",
       "      <td>NaN</td>\n",
       "      <td>70.000000</td>\n",
       "      <td>NaN</td>\n",
       "      <td>NaN</td>\n",
       "      <td>3.000000</td>\n",
       "      <td>NaN</td>\n",
       "      <td>NaN</td>\n",
       "      <td>NaN</td>\n",
       "      <td>NaN</td>\n",
       "      <td>0.0</td>\n",
       "      <td>30451.000000</td>\n",
       "      <td>NaN</td>\n",
       "    </tr>\n",
       "    <tr>\n",
       "      <th>50%</th>\n",
       "      <td>NaN</td>\n",
       "      <td>NaN</td>\n",
       "      <td>NaN</td>\n",
       "      <td>NaN</td>\n",
       "      <td>NaN</td>\n",
       "      <td>NaN</td>\n",
       "      <td>NaN</td>\n",
       "      <td>2003.000000</td>\n",
       "      <td>NaN</td>\n",
       "      <td>105.000000</td>\n",
       "      <td>NaN</td>\n",
       "      <td>NaN</td>\n",
       "      <td>6.000000</td>\n",
       "      <td>NaN</td>\n",
       "      <td>NaN</td>\n",
       "      <td>NaN</td>\n",
       "      <td>NaN</td>\n",
       "      <td>0.0</td>\n",
       "      <td>49577.000000</td>\n",
       "      <td>NaN</td>\n",
       "    </tr>\n",
       "    <tr>\n",
       "      <th>75%</th>\n",
       "      <td>NaN</td>\n",
       "      <td>NaN</td>\n",
       "      <td>NaN</td>\n",
       "      <td>NaN</td>\n",
       "      <td>NaN</td>\n",
       "      <td>NaN</td>\n",
       "      <td>NaN</td>\n",
       "      <td>2008.000000</td>\n",
       "      <td>NaN</td>\n",
       "      <td>150.000000</td>\n",
       "      <td>NaN</td>\n",
       "      <td>NaN</td>\n",
       "      <td>9.000000</td>\n",
       "      <td>NaN</td>\n",
       "      <td>NaN</td>\n",
       "      <td>NaN</td>\n",
       "      <td>NaN</td>\n",
       "      <td>0.0</td>\n",
       "      <td>71540.000000</td>\n",
       "      <td>NaN</td>\n",
       "    </tr>\n",
       "    <tr>\n",
       "      <th>max</th>\n",
       "      <td>NaN</td>\n",
       "      <td>NaN</td>\n",
       "      <td>NaN</td>\n",
       "      <td>NaN</td>\n",
       "      <td>NaN</td>\n",
       "      <td>NaN</td>\n",
       "      <td>NaN</td>\n",
       "      <td>9999.000000</td>\n",
       "      <td>NaN</td>\n",
       "      <td>17700.000000</td>\n",
       "      <td>NaN</td>\n",
       "      <td>NaN</td>\n",
       "      <td>12.000000</td>\n",
       "      <td>NaN</td>\n",
       "      <td>NaN</td>\n",
       "      <td>NaN</td>\n",
       "      <td>NaN</td>\n",
       "      <td>0.0</td>\n",
       "      <td>99998.000000</td>\n",
       "      <td>NaN</td>\n",
       "    </tr>\n",
       "  </tbody>\n",
       "</table>\n",
       "</div>"
      ],
      "text/plain": [
       "                dateCrawled         name  seller offerType  price abtest  \\\n",
       "count                 50000        50000   50000     50000  50000  50000   \n",
       "unique                48213        38754       2         2   2357      2   \n",
       "top     2016-03-29 23:42:13  Ford_Fiesta  privat   Angebot     $0   test   \n",
       "freq                      3           78   49999     49999   1421  25756   \n",
       "mean                    NaN          NaN     NaN       NaN    NaN    NaN   \n",
       "std                     NaN          NaN     NaN       NaN    NaN    NaN   \n",
       "min                     NaN          NaN     NaN       NaN    NaN    NaN   \n",
       "25%                     NaN          NaN     NaN       NaN    NaN    NaN   \n",
       "50%                     NaN          NaN     NaN       NaN    NaN    NaN   \n",
       "75%                     NaN          NaN     NaN       NaN    NaN    NaN   \n",
       "max                     NaN          NaN     NaN       NaN    NaN    NaN   \n",
       "\n",
       "       vehicleType  yearOfRegistration  gearbox       powerPS  model  \\\n",
       "count        44905        50000.000000    47320  50000.000000  47242   \n",
       "unique           8                 NaN        2           NaN    245   \n",
       "top      limousine                 NaN  manuell           NaN   golf   \n",
       "freq         12859                 NaN    36993           NaN   4024   \n",
       "mean           NaN         2005.073280      NaN    116.355920    NaN   \n",
       "std            NaN          105.712813      NaN    209.216627    NaN   \n",
       "min            NaN         1000.000000      NaN      0.000000    NaN   \n",
       "25%            NaN         1999.000000      NaN     70.000000    NaN   \n",
       "50%            NaN         2003.000000      NaN    105.000000    NaN   \n",
       "75%            NaN         2008.000000      NaN    150.000000    NaN   \n",
       "max            NaN         9999.000000      NaN  17700.000000    NaN   \n",
       "\n",
       "         odometer  monthOfRegistration fuelType       brand notRepairedDamage  \\\n",
       "count       50000         50000.000000    45518       50000             40171   \n",
       "unique         13                  NaN        7          40                 2   \n",
       "top     150,000km                  NaN   benzin  volkswagen              nein   \n",
       "freq        32424                  NaN    30107       10687             35232   \n",
       "mean          NaN             5.723360      NaN         NaN               NaN   \n",
       "std           NaN             3.711984      NaN         NaN               NaN   \n",
       "min           NaN             0.000000      NaN         NaN               NaN   \n",
       "25%           NaN             3.000000      NaN         NaN               NaN   \n",
       "50%           NaN             6.000000      NaN         NaN               NaN   \n",
       "75%           NaN             9.000000      NaN         NaN               NaN   \n",
       "max           NaN            12.000000      NaN         NaN               NaN   \n",
       "\n",
       "                dateCreated  nrOfPictures    postalCode             lastSeen  \n",
       "count                 50000       50000.0  50000.000000                50000  \n",
       "unique                   76           NaN           NaN                39481  \n",
       "top     2016-04-03 00:00:00           NaN           NaN  2016-04-07 06:17:27  \n",
       "freq                   1946           NaN           NaN                    8  \n",
       "mean                    NaN           0.0  50813.627300                  NaN  \n",
       "std                     NaN           0.0  25779.747957                  NaN  \n",
       "min                     NaN           0.0   1067.000000                  NaN  \n",
       "25%                     NaN           0.0  30451.000000                  NaN  \n",
       "50%                     NaN           0.0  49577.000000                  NaN  \n",
       "75%                     NaN           0.0  71540.000000                  NaN  \n",
       "max                     NaN           0.0  99998.000000                  NaN  "
      ]
     },
     "execution_count": 2,
     "metadata": {},
     "output_type": "execute_result"
    }
   ],
   "source": [
    "autos.describe(include=\"all\")"
   ]
  },
  {
   "cell_type": "code",
   "execution_count": 3,
   "id": "913736d5",
   "metadata": {},
   "outputs": [
    {
     "name": "stdout",
     "output_type": "stream",
     "text": [
      "<class 'pandas.core.frame.DataFrame'>\n",
      "RangeIndex: 50000 entries, 0 to 49999\n",
      "Data columns (total 20 columns):\n",
      " #   Column               Non-Null Count  Dtype \n",
      "---  ------               --------------  ----- \n",
      " 0   dateCrawled          50000 non-null  object\n",
      " 1   name                 50000 non-null  object\n",
      " 2   seller               50000 non-null  object\n",
      " 3   offerType            50000 non-null  object\n",
      " 4   price                50000 non-null  object\n",
      " 5   abtest               50000 non-null  object\n",
      " 6   vehicleType          44905 non-null  object\n",
      " 7   yearOfRegistration   50000 non-null  int64 \n",
      " 8   gearbox              47320 non-null  object\n",
      " 9   powerPS              50000 non-null  int64 \n",
      " 10  model                47242 non-null  object\n",
      " 11  odometer             50000 non-null  object\n",
      " 12  monthOfRegistration  50000 non-null  int64 \n",
      " 13  fuelType             45518 non-null  object\n",
      " 14  brand                50000 non-null  object\n",
      " 15  notRepairedDamage    40171 non-null  object\n",
      " 16  dateCreated          50000 non-null  object\n",
      " 17  nrOfPictures         50000 non-null  int64 \n",
      " 18  postalCode           50000 non-null  int64 \n",
      " 19  lastSeen             50000 non-null  object\n",
      "dtypes: int64(5), object(15)\n",
      "memory usage: 7.6+ MB\n"
     ]
    }
   ],
   "source": [
    "autos.info()"
   ]
  },
  {
   "cell_type": "markdown",
   "id": "908a1d2f",
   "metadata": {},
   "source": [
    "## 1.1.  Observation\n",
    "\n",
    "##### There are 50,000 entries from index 0 to 49999 and 20 columns.\n",
    "\n",
    "##### 1. Unique values returned as NaN\n",
    "There are 5 values returned as 'NaN' for number of unique values. They are 'yearOfRegistration', 'PowerPS', 'monthOfRegistration', 'nrOfPictures and 'postalCode'. \n",
    "\n",
    "A further analysis of these rows is required to find out the number of entries and whether they would add any value to the purpose of this project. \n",
    "\n",
    "##### 2. Columns with 2 unique values\n",
    "There are 5 columns with only 2 unique values. They are 'seller', 'offerType', 'abtest', 'gearbox', and 'notRepairedDamages'.\n",
    "\n",
    "A further analysis of these rows is required to find out the number of entries attributed to these 2 unique values.\n",
    "\n",
    "##### 3. Price and odometer datatypes\n",
    "The 'price' and 'odometer' columns' datatypes are 'object'. These can be changed to integar type.  \n",
    "\n",
    "##### 4. Translate non-English word to English words. \n",
    "Columns 'fuelType', 'gearbox', 'NotRepairedDamage' includes words that are not in English language. These words can be translated to English. \n",
    "\n",
    "#####  5. Column's name uses CamelcaseColumns \n",
    "The columns' names use camelcase instead of snakecase. Python code conventions require that snakecase be used. This would make the code more readable to others using the same programming language and would avoid confusions (for example, with classes which, as a code convention, uses capitalised first alphabets). \n",
    "\n",
    "This can be changed to Python's preferred style - snakecase. The columns can also be rearranged. "
   ]
  },
  {
   "cell_type": "markdown",
   "id": "fee931f1",
   "metadata": {},
   "source": [
    "# ----------  End of Part A ---------- "
   ]
  },
  {
   "cell_type": "markdown",
   "id": "ec0ee1e7",
   "metadata": {},
   "source": [
    "# Part B: Reorganising Dataset"
   ]
  },
  {
   "cell_type": "markdown",
   "id": "53df18b5",
   "metadata": {},
   "source": [
    "# 2. Rows & Columns"
   ]
  },
  {
   "cell_type": "markdown",
   "id": "3767f7fb",
   "metadata": {},
   "source": [
    "## 2.1. Review of unique values returned as NaN"
   ]
  },
  {
   "cell_type": "markdown",
   "id": "4c7d3c78",
   "metadata": {},
   "source": [
    "##### For 5 columns, the values returned as 'NaN' for the number of unique values. They are 'yearOfRegistration', 'PowerPS', 'monthOfRegistration', 'nrOfPictures' and 'postalCode'. These require further review to find out if they include only 1 or 2 unique values. "
   ]
  },
  {
   "cell_type": "code",
   "execution_count": 4,
   "id": "58234d41",
   "metadata": {},
   "outputs": [
    {
     "data": {
      "text/plain": [
       "2000    3354\n",
       "2005    3015\n",
       "1999    3000\n",
       "2004    2737\n",
       "2003    2727\n",
       "        ... \n",
       "4500       1\n",
       "1931       1\n",
       "1939       1\n",
       "5911       1\n",
       "1952       1\n",
       "Name: yearOfRegistration, Length: 97, dtype: int64"
      ]
     },
     "execution_count": 4,
     "metadata": {},
     "output_type": "execute_result"
    }
   ],
   "source": [
    "autos[\"yearOfRegistration\"].value_counts()"
   ]
  },
  {
   "cell_type": "code",
   "execution_count": 5,
   "id": "431c424e",
   "metadata": {},
   "outputs": [
    {
     "data": {
      "text/plain": [
       "0        5500\n",
       "75       3171\n",
       "60       2195\n",
       "150      2046\n",
       "140      1884\n",
       "         ... \n",
       "455         1\n",
       "1016        1\n",
       "952         1\n",
       "696         1\n",
       "16312       1\n",
       "Name: powerPS, Length: 448, dtype: int64"
      ]
     },
     "execution_count": 5,
     "metadata": {},
     "output_type": "execute_result"
    }
   ],
   "source": [
    "autos[\"powerPS\"].value_counts()"
   ]
  },
  {
   "cell_type": "code",
   "execution_count": 6,
   "id": "4715893c",
   "metadata": {},
   "outputs": [
    {
     "data": {
      "text/plain": [
       "0     5075\n",
       "3     5071\n",
       "6     4368\n",
       "5     4107\n",
       "4     4102\n",
       "7     3949\n",
       "10    3651\n",
       "12    3447\n",
       "9     3389\n",
       "11    3360\n",
       "1     3282\n",
       "8     3191\n",
       "2     3008\n",
       "Name: monthOfRegistration, dtype: int64"
      ]
     },
     "execution_count": 6,
     "metadata": {},
     "output_type": "execute_result"
    }
   ],
   "source": [
    "autos[\"monthOfRegistration\"].value_counts()"
   ]
  },
  {
   "cell_type": "code",
   "execution_count": 7,
   "id": "c547fd3a",
   "metadata": {},
   "outputs": [
    {
     "data": {
      "text/plain": [
       "0    50000\n",
       "Name: nrOfPictures, dtype: int64"
      ]
     },
     "execution_count": 7,
     "metadata": {},
     "output_type": "execute_result"
    }
   ],
   "source": [
    "autos[\"nrOfPictures\"].value_counts()"
   ]
  },
  {
   "cell_type": "code",
   "execution_count": 8,
   "id": "806f3e95",
   "metadata": {},
   "outputs": [
    {
     "data": {
      "text/plain": [
       "10115    109\n",
       "65428    104\n",
       "66333     54\n",
       "45888     50\n",
       "44145     48\n",
       "        ... \n",
       "71576      1\n",
       "76776      1\n",
       "76872      1\n",
       "91233      1\n",
       "67585      1\n",
       "Name: postalCode, Length: 7014, dtype: int64"
      ]
     },
     "execution_count": 8,
     "metadata": {},
     "output_type": "execute_result"
    }
   ],
   "source": [
    "autos[\"postalCode\"].value_counts()"
   ]
  },
  {
   "cell_type": "markdown",
   "id": "a188245e",
   "metadata": {},
   "source": [
    "##### The column 'nr_of_pictures' has only one unique value: '0'. With only one value, this column will not have any influence on the purpose of this project. This column 'nr_of_pictures' is deleted from the dataset. "
   ]
  },
  {
   "cell_type": "code",
   "execution_count": 9,
   "id": "ce9ea968",
   "metadata": {},
   "outputs": [],
   "source": [
    "autos.drop(columns=[\"nrOfPictures\"], inplace=True)"
   ]
  },
  {
   "cell_type": "markdown",
   "id": "d3b24c4a",
   "metadata": {},
   "source": [
    "## 2.2. Review of columns with only 2 unique values"
   ]
  },
  {
   "cell_type": "markdown",
   "id": "683cae7e",
   "metadata": {},
   "source": [
    "##### For 5 columns, the values returned as '2' for the number of unique values. They are 'seller', 'offerType', 'abtest', 'gearbox' and 'notRepairedDamage'.  "
   ]
  },
  {
   "cell_type": "code",
   "execution_count": 10,
   "id": "2dde6191",
   "metadata": {
    "scrolled": false
   },
   "outputs": [
    {
     "data": {
      "text/plain": [
       "privat        49999\n",
       "gewerblich        1\n",
       "Name: seller, dtype: int64"
      ]
     },
     "execution_count": 10,
     "metadata": {},
     "output_type": "execute_result"
    }
   ],
   "source": [
    "autos[\"seller\"].value_counts()"
   ]
  },
  {
   "cell_type": "code",
   "execution_count": 11,
   "id": "87fc05da",
   "metadata": {},
   "outputs": [
    {
     "data": {
      "text/plain": [
       "Angebot    49999\n",
       "Gesuch         1\n",
       "Name: offerType, dtype: int64"
      ]
     },
     "execution_count": 11,
     "metadata": {},
     "output_type": "execute_result"
    }
   ],
   "source": [
    "autos[\"offerType\"].value_counts()"
   ]
  },
  {
   "cell_type": "code",
   "execution_count": 12,
   "id": "a0bbf94a",
   "metadata": {},
   "outputs": [
    {
     "data": {
      "text/plain": [
       "test       25756\n",
       "control    24244\n",
       "Name: abtest, dtype: int64"
      ]
     },
     "execution_count": 12,
     "metadata": {},
     "output_type": "execute_result"
    }
   ],
   "source": [
    "autos[\"abtest\"].value_counts()"
   ]
  },
  {
   "cell_type": "code",
   "execution_count": 13,
   "id": "862bdf22",
   "metadata": {},
   "outputs": [
    {
     "data": {
      "text/plain": [
       "manuell      36993\n",
       "automatik    10327\n",
       "Name: gearbox, dtype: int64"
      ]
     },
     "execution_count": 13,
     "metadata": {},
     "output_type": "execute_result"
    }
   ],
   "source": [
    "autos[\"gearbox\"].value_counts()"
   ]
  },
  {
   "cell_type": "code",
   "execution_count": 14,
   "id": "0ab632c9",
   "metadata": {},
   "outputs": [
    {
     "data": {
      "text/plain": [
       "nein    35232\n",
       "ja       4939\n",
       "Name: notRepairedDamage, dtype: int64"
      ]
     },
     "execution_count": 14,
     "metadata": {},
     "output_type": "execute_result"
    }
   ],
   "source": [
    "autos[\"notRepairedDamage\"].value_counts()"
   ]
  },
  {
   "cell_type": "markdown",
   "id": "f288fa87",
   "metadata": {},
   "source": [
    "##### The column 'seller' has only one entry for \"gewerblich\"  and the column 'offerType' has only one entry for \"Gesuch\""
   ]
  },
  {
   "cell_type": "code",
   "execution_count": 15,
   "id": "62013476",
   "metadata": {},
   "outputs": [
    {
     "data": {
      "text/html": [
       "<div>\n",
       "<style scoped>\n",
       "    .dataframe tbody tr th:only-of-type {\n",
       "        vertical-align: middle;\n",
       "    }\n",
       "\n",
       "    .dataframe tbody tr th {\n",
       "        vertical-align: top;\n",
       "    }\n",
       "\n",
       "    .dataframe thead th {\n",
       "        text-align: right;\n",
       "    }\n",
       "</style>\n",
       "<table border=\"1\" class=\"dataframe\">\n",
       "  <thead>\n",
       "    <tr style=\"text-align: right;\">\n",
       "      <th></th>\n",
       "      <th>dateCrawled</th>\n",
       "      <th>name</th>\n",
       "      <th>seller</th>\n",
       "      <th>offerType</th>\n",
       "      <th>price</th>\n",
       "      <th>abtest</th>\n",
       "      <th>vehicleType</th>\n",
       "      <th>yearOfRegistration</th>\n",
       "      <th>gearbox</th>\n",
       "      <th>powerPS</th>\n",
       "      <th>model</th>\n",
       "      <th>odometer</th>\n",
       "      <th>monthOfRegistration</th>\n",
       "      <th>fuelType</th>\n",
       "      <th>brand</th>\n",
       "      <th>notRepairedDamage</th>\n",
       "      <th>dateCreated</th>\n",
       "      <th>postalCode</th>\n",
       "      <th>lastSeen</th>\n",
       "    </tr>\n",
       "  </thead>\n",
       "  <tbody>\n",
       "    <tr>\n",
       "      <th>7738</th>\n",
       "      <td>2016-03-15 18:06:22</td>\n",
       "      <td>Verkaufe_mehrere_Fahrzeuge_zum_Verschrotten</td>\n",
       "      <td>gewerblich</td>\n",
       "      <td>Angebot</td>\n",
       "      <td>$100</td>\n",
       "      <td>control</td>\n",
       "      <td>kombi</td>\n",
       "      <td>2000</td>\n",
       "      <td>manuell</td>\n",
       "      <td>0</td>\n",
       "      <td>megane</td>\n",
       "      <td>150,000km</td>\n",
       "      <td>8</td>\n",
       "      <td>benzin</td>\n",
       "      <td>renault</td>\n",
       "      <td>NaN</td>\n",
       "      <td>2016-03-15 00:00:00</td>\n",
       "      <td>65232</td>\n",
       "      <td>2016-04-06 17:15:37</td>\n",
       "    </tr>\n",
       "  </tbody>\n",
       "</table>\n",
       "</div>"
      ],
      "text/plain": [
       "              dateCrawled                                         name  \\\n",
       "7738  2016-03-15 18:06:22  Verkaufe_mehrere_Fahrzeuge_zum_Verschrotten   \n",
       "\n",
       "          seller offerType price   abtest vehicleType  yearOfRegistration  \\\n",
       "7738  gewerblich   Angebot  $100  control       kombi                2000   \n",
       "\n",
       "      gearbox  powerPS   model   odometer  monthOfRegistration fuelType  \\\n",
       "7738  manuell        0  megane  150,000km                    8   benzin   \n",
       "\n",
       "        brand notRepairedDamage          dateCreated  postalCode  \\\n",
       "7738  renault               NaN  2016-03-15 00:00:00       65232   \n",
       "\n",
       "                 lastSeen  \n",
       "7738  2016-04-06 17:15:37  "
      ]
     },
     "execution_count": 15,
     "metadata": {},
     "output_type": "execute_result"
    }
   ],
   "source": [
    "autos[autos[\"seller\"] == \"gewerblich\"]"
   ]
  },
  {
   "cell_type": "code",
   "execution_count": 16,
   "id": "afcc721d",
   "metadata": {},
   "outputs": [
    {
     "data": {
      "text/html": [
       "<div>\n",
       "<style scoped>\n",
       "    .dataframe tbody tr th:only-of-type {\n",
       "        vertical-align: middle;\n",
       "    }\n",
       "\n",
       "    .dataframe tbody tr th {\n",
       "        vertical-align: top;\n",
       "    }\n",
       "\n",
       "    .dataframe thead th {\n",
       "        text-align: right;\n",
       "    }\n",
       "</style>\n",
       "<table border=\"1\" class=\"dataframe\">\n",
       "  <thead>\n",
       "    <tr style=\"text-align: right;\">\n",
       "      <th></th>\n",
       "      <th>dateCrawled</th>\n",
       "      <th>name</th>\n",
       "      <th>seller</th>\n",
       "      <th>offerType</th>\n",
       "      <th>price</th>\n",
       "      <th>abtest</th>\n",
       "      <th>vehicleType</th>\n",
       "      <th>yearOfRegistration</th>\n",
       "      <th>gearbox</th>\n",
       "      <th>powerPS</th>\n",
       "      <th>model</th>\n",
       "      <th>odometer</th>\n",
       "      <th>monthOfRegistration</th>\n",
       "      <th>fuelType</th>\n",
       "      <th>brand</th>\n",
       "      <th>notRepairedDamage</th>\n",
       "      <th>dateCreated</th>\n",
       "      <th>postalCode</th>\n",
       "      <th>lastSeen</th>\n",
       "    </tr>\n",
       "  </thead>\n",
       "  <tbody>\n",
       "    <tr>\n",
       "      <th>17541</th>\n",
       "      <td>2016-04-03 15:48:33</td>\n",
       "      <td>Suche_VW_T5_Multivan</td>\n",
       "      <td>privat</td>\n",
       "      <td>Gesuch</td>\n",
       "      <td>$0</td>\n",
       "      <td>test</td>\n",
       "      <td>bus</td>\n",
       "      <td>2005</td>\n",
       "      <td>NaN</td>\n",
       "      <td>0</td>\n",
       "      <td>transporter</td>\n",
       "      <td>150,000km</td>\n",
       "      <td>0</td>\n",
       "      <td>NaN</td>\n",
       "      <td>volkswagen</td>\n",
       "      <td>NaN</td>\n",
       "      <td>2016-04-03 00:00:00</td>\n",
       "      <td>29690</td>\n",
       "      <td>2016-04-05 15:16:06</td>\n",
       "    </tr>\n",
       "  </tbody>\n",
       "</table>\n",
       "</div>"
      ],
      "text/plain": [
       "               dateCrawled                  name  seller offerType price  \\\n",
       "17541  2016-04-03 15:48:33  Suche_VW_T5_Multivan  privat    Gesuch    $0   \n",
       "\n",
       "      abtest vehicleType  yearOfRegistration gearbox  powerPS        model  \\\n",
       "17541   test         bus                2005     NaN        0  transporter   \n",
       "\n",
       "        odometer  monthOfRegistration fuelType       brand notRepairedDamage  \\\n",
       "17541  150,000km                    0      NaN  volkswagen               NaN   \n",
       "\n",
       "               dateCreated  postalCode             lastSeen  \n",
       "17541  2016-04-03 00:00:00       29690  2016-04-05 15:16:06  "
      ]
     },
     "execution_count": 16,
     "metadata": {},
     "output_type": "execute_result"
    }
   ],
   "source": [
    "autos[autos[\"offerType\"] == \"Gesuch\"]"
   ]
  },
  {
   "cell_type": "markdown",
   "id": "f379cf7f",
   "metadata": {},
   "source": [
    "##### These rows with entries \"gewerblich\"  and \"Gesuch\"are deleted. "
   ]
  },
  {
   "cell_type": "code",
   "execution_count": 17,
   "id": "db4895a3",
   "metadata": {},
   "outputs": [],
   "source": [
    "autos.drop(index=[7738, 17541], inplace=True)"
   ]
  },
  {
   "cell_type": "markdown",
   "id": "143958cf",
   "metadata": {},
   "source": [
    "##### After the deletion of rows '7738' and '7541', the column 'seller' is left with one unique value ('privat') and 'offerType' is left with one unique value ('Angebot'). "
   ]
  },
  {
   "cell_type": "code",
   "execution_count": 18,
   "id": "4f5a23a0",
   "metadata": {},
   "outputs": [
    {
     "name": "stdout",
     "output_type": "stream",
     "text": [
      "['privat']\n",
      "['Angebot']\n"
     ]
    }
   ],
   "source": [
    "print(autos[\"seller\"].unique())\n",
    "print(autos[\"offerType\"].unique())"
   ]
  },
  {
   "cell_type": "markdown",
   "id": "3c26500e",
   "metadata": {},
   "source": [
    "\n",
    "##### With only one value, these columns ('seller' and 'offerType') will not have any influence on the purpose of this project. Therefore these columns ('seller' and 'offerType') are deleted from the dataset. "
   ]
  },
  {
   "cell_type": "code",
   "execution_count": 19,
   "id": "f5689813",
   "metadata": {},
   "outputs": [],
   "source": [
    "autos.drop(columns=[\"seller\"], inplace=True)\n",
    "autos.drop(columns=[\"offerType\"], inplace=True)"
   ]
  },
  {
   "cell_type": "markdown",
   "id": "a9648d34",
   "metadata": {},
   "source": [
    "## 2.3. Converting datetype of 'price' and 'odometer' columns from object to integer"
   ]
  },
  {
   "cell_type": "markdown",
   "id": "5635000f",
   "metadata": {},
   "source": [
    "##### The 'price' and 'odometer' columns has non-numeric values such as \"$\", \"KM\" and \",\""
   ]
  },
  {
   "cell_type": "code",
   "execution_count": 20,
   "id": "7c05c3c3",
   "metadata": {},
   "outputs": [
    {
     "data": {
      "text/plain": [
       "0    $5,000\n",
       "1    $8,500\n",
       "2    $8,990\n",
       "Name: price, dtype: object"
      ]
     },
     "execution_count": 20,
     "metadata": {},
     "output_type": "execute_result"
    }
   ],
   "source": [
    "autos[\"price\"].head(3)"
   ]
  },
  {
   "cell_type": "code",
   "execution_count": 21,
   "id": "5d5ae805",
   "metadata": {},
   "outputs": [
    {
     "data": {
      "text/plain": [
       "0    150,000km\n",
       "1    150,000km\n",
       "2     70,000km\n",
       "Name: odometer, dtype: object"
      ]
     },
     "execution_count": 21,
     "metadata": {},
     "output_type": "execute_result"
    }
   ],
   "source": [
    "autos[\"odometer\"].head(3)"
   ]
  },
  {
   "cell_type": "markdown",
   "id": "e5f91fb1",
   "metadata": {},
   "source": [
    "##### The non-numeric values are removed from the 'price' and 'odometer' columns and these columns are converted to integer. "
   ]
  },
  {
   "cell_type": "code",
   "execution_count": 22,
   "id": "da4707c1",
   "metadata": {
    "scrolled": true
   },
   "outputs": [],
   "source": [
    "### a function (clean_col) is created to remove non-numeric values ###\n",
    "def clean_col(col):\n",
    "    col = col.str.replace(\",\", \"\", regex=True)\n",
    "    col = col.str.replace(\"$\", \"\", regex=True)\n",
    "    col = col.str.replace(\"km\", \"\", regex=True)\n",
    "    return col\n",
    "\n",
    "### clean_col function is called to remove non-numeric values from 'price' and 'odometer' columns ###\n",
    "autos[\"price\"] = clean_col(autos[\"price\"])\n",
    "autos[\"odometer\"] = clean_col(autos[\"odometer\"])\n",
    "\n",
    "### the 'price' and 'odometer columns are converted to integer type'\n",
    "autos[\"price\"] = autos[\"price\"].astype(int)\n",
    "autos[\"odometer\"] = autos[\"odometer\"].astype(int)"
   ]
  },
  {
   "cell_type": "code",
   "execution_count": 23,
   "id": "f23e900f",
   "metadata": {
    "scrolled": true
   },
   "outputs": [
    {
     "data": {
      "text/html": [
       "<div>\n",
       "<style scoped>\n",
       "    .dataframe tbody tr th:only-of-type {\n",
       "        vertical-align: middle;\n",
       "    }\n",
       "\n",
       "    .dataframe tbody tr th {\n",
       "        vertical-align: top;\n",
       "    }\n",
       "\n",
       "    .dataframe thead th {\n",
       "        text-align: right;\n",
       "    }\n",
       "</style>\n",
       "<table border=\"1\" class=\"dataframe\">\n",
       "  <thead>\n",
       "    <tr style=\"text-align: right;\">\n",
       "      <th></th>\n",
       "      <th>price</th>\n",
       "      <th>odometer</th>\n",
       "    </tr>\n",
       "  </thead>\n",
       "  <tbody>\n",
       "    <tr>\n",
       "      <th>0</th>\n",
       "      <td>5000</td>\n",
       "      <td>150000</td>\n",
       "    </tr>\n",
       "    <tr>\n",
       "      <th>1</th>\n",
       "      <td>8500</td>\n",
       "      <td>150000</td>\n",
       "    </tr>\n",
       "    <tr>\n",
       "      <th>2</th>\n",
       "      <td>8990</td>\n",
       "      <td>70000</td>\n",
       "    </tr>\n",
       "  </tbody>\n",
       "</table>\n",
       "</div>"
      ],
      "text/plain": [
       "   price  odometer\n",
       "0   5000    150000\n",
       "1   8500    150000\n",
       "2   8990     70000"
      ]
     },
     "execution_count": 23,
     "metadata": {},
     "output_type": "execute_result"
    }
   ],
   "source": [
    "autos[[\"price\", \"odometer\"]].head(3)"
   ]
  },
  {
   "cell_type": "markdown",
   "id": "c2c31b0b",
   "metadata": {},
   "source": [
    "## 2.4. Substitute non-English word with English words"
   ]
  },
  {
   "cell_type": "markdown",
   "id": "fc6704ad",
   "metadata": {},
   "source": [
    "##### There are three columns with data entries that are not in English language. "
   ]
  },
  {
   "cell_type": "code",
   "execution_count": 24,
   "id": "db61e4b5",
   "metadata": {},
   "outputs": [
    {
     "name": "stdout",
     "output_type": "stream",
     "text": [
      "Column - 'fuelType': ['lpg' 'benzin' 'diesel' nan 'cng' 'hybrid' 'elektro' 'andere']\n",
      "Column - 'gearbox': ['manuell' 'automatik' nan]\n",
      "Column - 'NotRepairedDamage': ['nein' nan 'ja']\n"
     ]
    }
   ],
   "source": [
    "### extracting unique values from the 3 columns which has data entries not in English language ###\n",
    "print(\"Column - 'fuelType':\", autos[\"fuelType\"].unique())\n",
    "print(\"Column - 'gearbox':\", autos[\"gearbox\"].unique())\n",
    "print(\"Column - 'NotRepairedDamage':\", autos[\"notRepairedDamage\"].unique())"
   ]
  },
  {
   "cell_type": "code",
   "execution_count": 25,
   "id": "6e011399",
   "metadata": {},
   "outputs": [],
   "source": [
    "### using the map() function to assign the English translation to these 3 columns ###\n",
    "autos[\"fuelType\"] = autos[\"fuelType\"].map({\n",
    "    'lpg':\"lpg\",\n",
    "    'benzin':\"petrol\",\n",
    "    'diesel':\"diesel\",\n",
    "    'cng':\"cng\",\n",
    "    'hybrid':\"hybrid\",\n",
    "    'elektro':\"electric\",\n",
    "    'andere':\"other\"\n",
    "    })\n",
    "autos[\"gearbox\"] = autos[\"gearbox\"].map({'manuell':\"manual\",'automatik':\"automatic\"})\n",
    "autos[\"notRepairedDamage\"] = autos[\"notRepairedDamage\"].map({'nein':\"no\",'ja':\"yes\"})"
   ]
  },
  {
   "cell_type": "markdown",
   "id": "94d3d621",
   "metadata": {},
   "source": [
    "## 2.5. Changing the use camelcase to snakecase and reorganising columns"
   ]
  },
  {
   "cell_type": "markdown",
   "id": "7d56fd2f",
   "metadata": {},
   "source": [
    "##### The columns uses camelcase style for their names. This is change to snakecase."
   ]
  },
  {
   "cell_type": "code",
   "execution_count": 26,
   "id": "b7b009fd",
   "metadata": {},
   "outputs": [],
   "source": [
    "### changing names style from camelcase to snakecase###\n",
    "autos.columns = ['date_crawled', 'name', 'price_$', 'ab_test', 'vehicle_type', 'reg_year', 'gearbox', 'power_ps', 'model',\n",
    "       'odometer_km', 'reg_month', 'fuel_type', 'brand', 'unrepaired_damage', 'ad_created', 'postal_code', 'last_seen']\n",
    "\n",
    "### rearranging columns ###\n",
    "autos = autos[['brand', 'model', 'name', 'vehicle_type', 'price_$', 'odometer_km', 'reg_year', 'reg_month', 'gearbox', \n",
    "               'power_ps', 'fuel_type', 'ab_test', 'unrepaired_damage', 'postal_code', 'ad_created', 'date_crawled', \n",
    "               'last_seen']]"
   ]
  },
  {
   "cell_type": "markdown",
   "id": "0efe198c",
   "metadata": {},
   "source": [
    "# ----------  End of Part B ---------- "
   ]
  },
  {
   "cell_type": "markdown",
   "id": "91707f9c",
   "metadata": {},
   "source": [
    "# Part C: Organised Dataset"
   ]
  },
  {
   "cell_type": "markdown",
   "id": "b98c2802",
   "metadata": {},
   "source": [
    "## 3. Quick Review of the organised dataset"
   ]
  },
  {
   "cell_type": "code",
   "execution_count": 27,
   "id": "7ddc71e5",
   "metadata": {
    "scrolled": true
   },
   "outputs": [
    {
     "name": "stdout",
     "output_type": "stream",
     "text": [
      "<class 'pandas.core.frame.DataFrame'>\n",
      "Int64Index: 49998 entries, 0 to 49999\n",
      "Data columns (total 17 columns):\n",
      " #   Column             Non-Null Count  Dtype \n",
      "---  ------             --------------  ----- \n",
      " 0   brand              49998 non-null  object\n",
      " 1   model              47240 non-null  object\n",
      " 2   name               49998 non-null  object\n",
      " 3   vehicle_type       44903 non-null  object\n",
      " 4   price_$            49998 non-null  int32 \n",
      " 5   odometer_km        49998 non-null  int32 \n",
      " 6   reg_year           49998 non-null  int64 \n",
      " 7   reg_month          49998 non-null  int64 \n",
      " 8   gearbox            47319 non-null  object\n",
      " 9   power_ps           49998 non-null  int64 \n",
      " 10  fuel_type          45517 non-null  object\n",
      " 11  ab_test            49998 non-null  object\n",
      " 12  unrepaired_damage  40171 non-null  object\n",
      " 13  postal_code        49998 non-null  int64 \n",
      " 14  ad_created         49998 non-null  object\n",
      " 15  date_crawled       49998 non-null  object\n",
      " 16  last_seen          49998 non-null  object\n",
      "dtypes: int32(2), int64(4), object(11)\n",
      "memory usage: 6.5+ MB\n"
     ]
    }
   ],
   "source": [
    "autos.info()"
   ]
  },
  {
   "cell_type": "markdown",
   "id": "498bf38a",
   "metadata": {},
   "source": [
    "##### After reorganising the dataset, there are 49,998 rows with 17 coumns. The columns are arranged as follows:\n",
    "\n",
    " 0   brand:              The brand of the car.\n",
    " \n",
    " 1   model:              The car model name.\n",
    " \n",
    " 2   name:               Name of the car.\n",
    " \n",
    " 3   vehicle_type:       The vehicle type.\n",
    " \n",
    " 4   price_$:            The price on the advertisement to sell the car.\n",
    " \n",
    " 5   odometer_km:        How many kilometers the car has been driven.\n",
    " \n",
    " 6   reg_year:           The year in which the car was first registered.\n",
    " \n",
    " 7   reg_month:          The month in which the car was first registered.\n",
    " \n",
    " 8   gearbox:            The transmission type.\n",
    " \n",
    " 9   power_ps:           The power of the car in PS.\n",
    " \n",
    " 10  fuel_type:          What type of fuel the car uses.\n",
    " \n",
    " 11  ab_test:            Whether the listing is included in an A/B test.\n",
    " \n",
    " 12  unrepaired_damage:  If the car has a damage which is not yet repaired.\n",
    " \n",
    " 13  postal_code:        The postal code for the location of the vehicle.\n",
    " \n",
    " 14  ad_created:         The date on which the eBay listing was created.\n",
    " \n",
    " 15  date_crawled:       When this advertisement was first crawled. All field-values are taken from this date.\n",
    " \n",
    " 16  last_seen:          When the crawler saw this advertisement last online."
   ]
  },
  {
   "cell_type": "markdown",
   "id": "be74d96d",
   "metadata": {},
   "source": [
    "##### Deletion Log:\n",
    "\n",
    "Rows: \n",
    "(Initial Count: 50,000) (Previous Count:50,000) (Current Count: 49,998) \n",
    "\n",
    "    Part 2.2: 'seller' with entry for \"gewerblich\"  \n",
    "\n",
    "    Part 2.2: 'offerType' with entry for \"Gesuch\".\n",
    "\n",
    "Columns:\n",
    "(Initial Count: 20) (Previous Count:20) (Current Count: 17) \n",
    "\n",
    "    Part 2.1: ''nr_of_pictures' with one unique value: '0'.\n",
    "\n",
    "    Part 2.2: 'seller' left with one unique value: 'privat'.\n",
    "\n",
    "    Part 2.2: 'offerType' left with one unique value: 'Angebot'\n",
    "\n",
    "\n",
    "\n"
   ]
  },
  {
   "cell_type": "markdown",
   "id": "fd3d4ea9",
   "metadata": {},
   "source": [
    "# ----------  End of Part C ---------- "
   ]
  },
  {
   "cell_type": "markdown",
   "id": "b0fe11d5",
   "metadata": {},
   "source": [
    "# Part D: Cleaning Data Entries"
   ]
  },
  {
   "cell_type": "markdown",
   "id": "59a549dc",
   "metadata": {},
   "source": [
    "# 4. Data entries"
   ]
  },
  {
   "cell_type": "markdown",
   "id": "41f89a2d",
   "metadata": {},
   "source": [
    "## 4.1. Removing data for antique vehicles from the columns: 'reg_year' "
   ]
  },
  {
   "cell_type": "markdown",
   "id": "c1031ad6",
   "metadata": {},
   "source": [
    "##### The rules pertaining to a car being antique may differ in different countries. For example, the  Antique Automobile Club of America defines antique car as over 25 years of age. In Germany, cars older than 30 years are termed Oldtimer and may be registered as historic/antique cars. \n",
    "\n",
    "##### For the value of an antique car, the brand and performance of the car are not the only significant factor or may be irrelevant. The value of an antique car may depends on many other factors such as the registraton year, looks and historic relevance etc. \n",
    "\n",
    "##### Therefore, to put those that are not antique in the same category as antique cars for the purposes of comparison and data analysis may not be the right approach for this project.  "
   ]
  },
  {
   "cell_type": "code",
   "execution_count": 28,
   "id": "ad4a6abd",
   "metadata": {},
   "outputs": [
    {
     "data": {
      "text/plain": [
       "(924, 17)"
      ]
     },
     "execution_count": 28,
     "metadata": {},
     "output_type": "execute_result"
    }
   ],
   "source": [
    "autos.loc[autos[\"reg_year\"]<1986].shape"
   ]
  },
  {
   "cell_type": "markdown",
   "id": "46db49b3",
   "metadata": {},
   "source": [
    "##### There are 924 listings in the dataset for antique cars. These listings are removed from the dataset."
   ]
  },
  {
   "cell_type": "code",
   "execution_count": 29,
   "id": "cf805d31",
   "metadata": {},
   "outputs": [],
   "source": [
    "### from the dataset, removing antique vehicles ###\n",
    "autos = autos.drop(autos.loc[autos[\"reg_year\"]<1986].index)"
   ]
  },
  {
   "cell_type": "markdown",
   "id": "aa3e7917",
   "metadata": {},
   "source": [
    "## 4.2. Removing inaccurate entries in the column: 'reg_year'"
   ]
  },
  {
   "cell_type": "markdown",
   "id": "23e10357",
   "metadata": {},
   "source": [
    "#### Checking for listings with vehicle registration year indicated beyond 2016."
   ]
  },
  {
   "cell_type": "code",
   "execution_count": 30,
   "id": "d2c4441a",
   "metadata": {},
   "outputs": [
    {
     "data": {
      "text/plain": [
       "1966"
      ]
     },
     "execution_count": 30,
     "metadata": {},
     "output_type": "execute_result"
    }
   ],
   "source": [
    "len(autos[autos[\"reg_year\"]>2016])"
   ]
  },
  {
   "cell_type": "markdown",
   "id": "cae1eb38",
   "metadata": {},
   "source": [
    "##### There are 1,966 listings with vehicle registration year indicated beyond 2016. As the dataset represents advertisements until April 2016, these 1,966 listings are therefore inaccurate. These rows are deleted from the dataset. "
   ]
  },
  {
   "cell_type": "code",
   "execution_count": 31,
   "id": "8d01a30f",
   "metadata": {},
   "outputs": [],
   "source": [
    "### from the dataset, removing rows with vehicle 'reg_year' beyond 2016. ###\n",
    "autos = autos.drop(autos[autos[\"reg_year\"]>2016].index)"
   ]
  },
  {
   "cell_type": "markdown",
   "id": "834d1335",
   "metadata": {},
   "source": [
    "## 4.3. Reviewing data entry for columns: 'reg_month' "
   ]
  },
  {
   "cell_type": "markdown",
   "id": "1fd043eb",
   "metadata": {},
   "source": [
    "##### The listings with registration year beyond 2016 have already been deleted. As the dataset represents advertisements of used cars until April 2016, this code checks for listings with registration month beyond the month of 'April'. "
   ]
  },
  {
   "cell_type": "code",
   "execution_count": 32,
   "id": "7534b39b",
   "metadata": {},
   "outputs": [
    {
     "name": "stdout",
     "output_type": "stream",
     "text": [
      "Number of listings with registration month indicated beyond April: 0\n"
     ]
    }
   ],
   "source": [
    "### checking for vehicles with 'reg_year' year 2016 and 'reg_month' beyond April ###\n",
    "reg_month_above_4 = autos[(autos[\"reg_month\"]==2016) & (autos[\"reg_month\"] >4)]\n",
    "\n",
    "print(\"Number of listings with registration month indicated beyond April:\", \n",
    "      len(reg_month_above_4))     \n",
    "      "
   ]
  },
  {
   "cell_type": "markdown",
   "id": "11456d48",
   "metadata": {},
   "source": [
    "##### There are no null values in the column 'reg_month'. However, there are 13 unique entries for the months when there should have been 12 only. "
   ]
  },
  {
   "cell_type": "code",
   "execution_count": 33,
   "id": "0f1d0d22",
   "metadata": {},
   "outputs": [
    {
     "name": "stdout",
     "output_type": "stream",
     "text": [
      "reg_month          49998 non-null  int64\n",
      "Unique entries for 'reg_month' is 13\n"
     ]
    },
    {
     "data": {
      "text/plain": [
       "3     4810\n",
       "0     4383\n",
       "6     4128\n",
       "5     3887\n",
       "4     3880\n",
       "7     3684\n",
       "10    3519\n",
       "12    3305\n",
       "9     3261\n",
       "11    3247\n",
       "1     3076\n",
       "8     3049\n",
       "2     2879\n",
       "Name: reg_month, dtype: int64"
      ]
     },
     "execution_count": 33,
     "metadata": {},
     "output_type": "execute_result"
    }
   ],
   "source": [
    "### printing non-null values, unique values and listing counts for the column: 'reg_month' ###\n",
    "print(\"reg_month          49998 non-null  int64\")\n",
    "print(\"Unique entries for 'reg_month' is\", len(autos[\"reg_month\"].unique()))\n",
    "autos[\"reg_month\"].value_counts()"
   ]
  },
  {
   "cell_type": "markdown",
   "id": "44312810",
   "metadata": {},
   "source": [
    "##### There are 4,383 listings with registration month indicated as $0. The 'wait and see' approach is adopted here and these listings are NOT deleted from the dataset. This is because the indicated month in the column - 'reg_month' may not be a significant factor for the purpose of this project. If required, these listings can be removed if the column - 'reg_month' becomes relevant to the purpose of this project."
   ]
  },
  {
   "cell_type": "markdown",
   "id": "38a5234b",
   "metadata": {},
   "source": [
    "## 4.4. Checking for outliers in the column: 'odometer_km'"
   ]
  },
  {
   "cell_type": "markdown",
   "id": "624aa2f0",
   "metadata": {},
   "source": [
    "##### There are no nul values in the column: 'adometer_km'. There are 13 unique entries. The minimum value is 5,000km and the maximum value is 150,000km. "
   ]
  },
  {
   "cell_type": "code",
   "execution_count": 34,
   "id": "2a73b241",
   "metadata": {
    "scrolled": true
   },
   "outputs": [
    {
     "name": "stdout",
     "output_type": "stream",
     "text": [
      "odometer_km        49998 non-null  int64\n",
      "Unique entries: 13\n",
      "Minimum value: 5000\n",
      "Maximum value: 150000\n"
     ]
    },
    {
     "data": {
      "text/plain": [
       "10000       229\n",
       "20000       737\n",
       "30000       746\n",
       "40000       779\n",
       "5000        805\n",
       "50000       974\n",
       "60000      1091\n",
       "70000      1153\n",
       "80000      1353\n",
       "90000      1654\n",
       "100000     2008\n",
       "125000     4880\n",
       "150000    30699\n",
       "Name: odometer_km, dtype: int64"
      ]
     },
     "execution_count": 34,
     "metadata": {},
     "output_type": "execute_result"
    }
   ],
   "source": [
    "### printing non-null values, unique, min and max values for 'odometer_km' column ###\n",
    "print(\"odometer_km        49998 non-null  int64\")\n",
    "print(\"Unique entries:\", len(autos[\"odometer_km\"].unique()))\n",
    "print(\"Minimum value:\", autos[\"odometer_km\"].min())\n",
    "print(\"Maximum value:\", autos[\"odometer_km\"].max())\n",
    "\n",
    "### extracting value_count() ###\n",
    "autos[\"odometer_km\"].value_counts().sort_values()"
   ]
  },
  {
   "cell_type": "markdown",
   "id": "040a088d",
   "metadata": {},
   "source": [
    "##### Checking the registration years for the first 3 entries above: 5,000km, 10,000km and 20,000km. "
   ]
  },
  {
   "cell_type": "code",
   "execution_count": 35,
   "id": "42c54eab",
   "metadata": {
    "scrolled": true
   },
   "outputs": [
    {
     "name": "stdout",
     "output_type": "stream",
     "text": [
      "reg_year\n",
      "2000        107\n",
      "2015         89\n",
      "2016         86\n",
      "1995         50\n",
      "2005         48\n",
      "1998         38\n",
      "2002         35\n",
      "1999         35\n",
      "2001         35\n",
      "1990         35\n",
      "1997         32\n",
      "2004         24\n",
      "2014         23\n",
      "1996         20\n",
      "2007         19\n",
      "dtype: int64\n",
      "\n",
      "\n",
      "reg_year\n",
      "2015        113\n",
      "2014         41\n",
      "2013         17\n",
      "2011          6\n",
      "2010          6\n",
      "2009          6\n",
      "2012          5\n",
      "2000          4\n",
      "1986          3\n",
      "1988          3\n",
      "1995          3\n",
      "2005          2\n",
      "2007          2\n",
      "2006          2\n",
      "2016          2\n",
      "dtype: int64\n",
      "\n",
      "\n",
      "reg_year\n",
      "2014        188\n",
      "2015        149\n",
      "2013         74\n",
      "2012         70\n",
      "2000         24\n",
      "2011         23\n",
      "2010         21\n",
      "2005         19\n",
      "2009         17\n",
      "1999         15\n",
      "2007         14\n",
      "2001         14\n",
      "1998         12\n",
      "1995         11\n",
      "2002         10\n",
      "dtype: int64\n"
     ]
    }
   ],
   "source": [
    "### counting entries by registration year for cars driven 5,000km ###\n",
    "print(autos.loc[autos[\"odometer_km\"]==5000, [\"reg_year\"]].value_counts().head(15))\n",
    "print('\\n')\n",
    "\n",
    "### counting entries by registration year for cars driven 10,000km ###\n",
    "print(autos.loc[autos[\"odometer_km\"]==10000, [\"reg_year\"]].value_counts().head(15))\n",
    "print('\\n')\n",
    "\n",
    "### counting entries by registration year for cars driven 20,000km ###\n",
    "print(autos.loc[autos[\"odometer_km\"]==20000, [\"reg_year\"]].value_counts().head(15))"
   ]
  },
  {
   "cell_type": "markdown",
   "id": "74f504f9",
   "metadata": {},
   "source": [
    "##### For vehicles driven 5,000 km, there are 80+ listings with their registration years listed as 2015 and 2016. The listings drop to 23 in 2014. Thereafter, the next earliest year is 2007. \n",
    "\n",
    "##### The same observation is made for vehicles driven 10,000 km and 20,000 km. For them, the outliers appears to be the year 2009. "
   ]
  },
  {
   "cell_type": "code",
   "execution_count": 36,
   "id": "a51d2bab",
   "metadata": {
    "scrolled": true
   },
   "outputs": [
    {
     "name": "stdout",
     "output_type": "stream",
     "text": [
      "Vehicles driven 5,00 km and registered before 2014 - rows & columns: (607, 17)\n",
      "Vehicles driven 10,00 km and registered before 2009 - rows & columns: (33, 17)\n",
      "Vehicles driven 20,00 km and registered before 2009 - rows & columns: (187, 17)\n"
     ]
    }
   ],
   "source": [
    "### printing number of rows and columns for ###\n",
    "    \n",
    "    ### vehicles driven 5,000km and are registered before 2014 ###\n",
    "print(\"Vehicles driven 5,00 km and registered before 2014 - rows & columns:\",\n",
    "      autos[(autos[\"odometer_km\"] == 5000) & (autos[\"reg_year\"] < 2014)].shape)\n",
    "   \n",
    "    ### vehicles driven 10,000km and are registered before 2009 ###\n",
    "print(\"Vehicles driven 10,00 km and registered before 2009 - rows & columns:\",\n",
    "      autos[(autos[\"odometer_km\"] == 10000) & (autos[\"reg_year\"] < 2009)].shape)\n",
    "\n",
    "    ### vehicles driven 20,000km and are registered before 2009 ###\n",
    "print(\"Vehicles driven 20,00 km and registered before 2009 - rows & columns:\",\n",
    "      autos[(autos[\"odometer_km\"] == 20000) & (autos[\"reg_year\"] < 2009)].shape)"
   ]
  },
  {
   "cell_type": "markdown",
   "id": "bdb6bd09",
   "metadata": {},
   "source": [
    "##### For the purpose of this project, the above 3 categories are removed from the dataset:"
   ]
  },
  {
   "cell_type": "code",
   "execution_count": 37,
   "id": "454421b1",
   "metadata": {
    "scrolled": true
   },
   "outputs": [],
   "source": [
    "### from the dataset, removing rows with vehicles driven 5,000km and are registered before 2014 ###\n",
    "autos = autos.drop(autos[(autos[\"odometer_km\"] <= 5000) & (autos[\"reg_year\"] < 2014)].index) \n",
    "\n",
    "### from the dataset, removing rows with vehicles driven 10,000km and are registered before 2009 ###\n",
    "autos = autos.drop(autos[(autos[\"odometer_km\"] <= 10000) & (autos[\"reg_year\"] < 2009)].index) \n",
    "\n",
    "### from the dataset, removing rows with vehicles driven 20,000km and are registered before 2009 ###\n",
    "autos = autos.drop(autos[(autos[\"odometer_km\"] <= 20000) & (autos[\"reg_year\"] < 2009)].index) "
   ]
  },
  {
   "cell_type": "markdown",
   "id": "720a1747",
   "metadata": {},
   "source": [
    "## 4.5. Checking for outliers in the column: 'price_$'"
   ]
  },
  {
   "cell_type": "markdown",
   "id": "0a08ff5a",
   "metadata": {},
   "source": [
    "##### There are no null values in the 'price' column. The minimum value entered is 0 and maximum value entered is 99999999. "
   ]
  },
  {
   "cell_type": "code",
   "execution_count": 38,
   "id": "0f04ab36",
   "metadata": {},
   "outputs": [
    {
     "name": "stdout",
     "output_type": "stream",
     "text": [
      "price_$            49998 non-null  int64\n",
      "Unique entries: 2301\n",
      "Minimum value: 0\n",
      "Maximum value: 99999999\n"
     ]
    }
   ],
   "source": [
    "### printing non-null values, unique, min and max values for 'price_$' column ###\n",
    "print(\"price_$            49998 non-null  int64\")\n",
    "print(\"Unique entries:\", len(autos[\"price_$\"].unique()))\n",
    "print(\"Minimum value:\", autos[\"price_$\"].min())\n",
    "print(\"Maximum value:\", autos[\"price_$\"].max())"
   ]
  },
  {
   "cell_type": "markdown",
   "id": "58763e58",
   "metadata": {},
   "source": [
    "##### Checking the entries for vehicles with price listed between 0-99. "
   ]
  },
  {
   "cell_type": "code",
   "execution_count": 39,
   "id": "d56d7a6c",
   "metadata": {},
   "outputs": [
    {
     "name": "stdout",
     "output_type": "stream",
     "text": [
      "Number of entries with price between $0-99: 1404\n",
      "0     1149\n",
      "1      124\n",
      "50      38\n",
      "99      18\n",
      "80      12\n",
      "70       7\n",
      "60       6\n",
      "90       5\n",
      "75       5\n",
      "40       3\n",
      "Name: price_$, dtype: int64\n"
     ]
    }
   ],
   "source": [
    "### extracting number of rows with price between $0 - $99 and assigning it to a variable: price_below_100 ###\n",
    "price_below_100 = autos.loc[(autos[\"price_$\"] >=0) & (autos[\"price_$\"] <= 99), \"price_$\"]\n",
    "print(\"Number of entries with price between $0-99:\", len(price_below_100))\n",
    "\n",
    "### counting values in the variable: below_100 ###\n",
    "print(price_below_100.value_counts().sort_values(ascending=False).head(10))"
   ]
  },
  {
   "cell_type": "code",
   "execution_count": 40,
   "id": "9852fa83",
   "metadata": {},
   "outputs": [
    {
     "name": "stdout",
     "output_type": "stream",
     "text": [
      "Number of entries with price equal to $100: 117\n"
     ]
    }
   ],
   "source": [
    "### extracting number of rows with price between $100 and assigning it to a variable: price_equal_100 ###\n",
    "price_equal_100 = autos[autos[\"price_$\"] == 100]\n",
    "print(\"Number of entries with price equal to $100:\", len(price_equal_100))"
   ]
  },
  {
   "cell_type": "markdown",
   "id": "b81f3965",
   "metadata": {},
   "source": [
    "##### Between the price 99 to 100, there is jump in number of entries from 18 to 117. \n",
    "##### This outlier (listings with price below 100) are removed from the dataset. "
   ]
  },
  {
   "cell_type": "code",
   "execution_count": 41,
   "id": "2ff8212b",
   "metadata": {},
   "outputs": [],
   "source": [
    "### from the dataset, removing rows with vehicle price below $100 ###\n",
    "autos = autos.drop(autos[autos[\"price_$\"] <= 99].index)"
   ]
  },
  {
   "cell_type": "markdown",
   "id": "fb78f523",
   "metadata": {},
   "source": [
    "##### Checking the entries for vehicles with price above 500,000. "
   ]
  },
  {
   "cell_type": "code",
   "execution_count": 42,
   "id": "63d79ee9",
   "metadata": {},
   "outputs": [
    {
     "name": "stdout",
     "output_type": "stream",
     "text": [
      "Number of rows with price above $500,000: 7\n",
      "\n",
      "\n",
      "                brand     model vehicle_type  reg_year   price_$\n",
      "514              ford     focus        kombi      2009    999999\n",
      "7814   sonstige_autos       NaN        coupe      1992   1300000\n",
      "22947             bmw       NaN        kombi      1999   1234566\n",
      "24384      volkswagen       NaN          NaN      1995  11111111\n",
      "39705   mercedes_benz  s_klasse    limousine      1999  99999999\n",
      "42221         citroen        c4    limousine      2014  27322222\n",
      "47598            opel    vectra    limousine      2001  12345678\n"
     ]
    }
   ],
   "source": [
    "### extracting number of rows with price above 500k and assigning it to a variable: price_above_500k ###\n",
    "price_above_500k = autos.loc[autos[\"price_$\"] > 500000,['brand', 'model', 'vehicle_type', 'reg_year', 'price_$']]\n",
    "print(\"Number of rows with price above $500,000:\", len(price_above_500k))\n",
    "print('\\n')\n",
    "print(price_above_500k)"
   ]
  },
  {
   "cell_type": "markdown",
   "id": "a9cdf589",
   "metadata": {},
   "source": [
    "#####  None of these brands and models would, realistically, fetch the advertised price. Therefore, these listings with price above 500,000 do not provide reliable data points with respect to price and are removed from the dataset. "
   ]
  },
  {
   "cell_type": "code",
   "execution_count": 43,
   "id": "b03d1c5b",
   "metadata": {},
   "outputs": [],
   "source": [
    "### from the dataset, removing rows with vehicle price above $500,000 ###\n",
    "autos = autos.drop(autos[autos[\"price_$\"] > 500000].index)"
   ]
  },
  {
   "cell_type": "markdown",
   "id": "23504525",
   "metadata": {},
   "source": [
    "##### Deletion Log:\n",
    "\n",
    "##### Part 2\n",
    "Rows: \n",
    "(Initial Count: 50,000) (Previous Count:50,000) (Current Count: 49,998) \n",
    "\n",
    "    Part 2.2: 'seller' with entry for \"gewerblich\"  \n",
    "    Part 2.2: 'offerType' with entry for \"Gesuch\".\n",
    "\n",
    "##### Part 4\n",
    "Rows: \n",
    "(Initial Count: 50,000)(Previous Count:49,998) (Current Count: 44,870) \n",
    "\n",
    "    Part 4.1: antique vehicles (registered before 1986): 924 rows.\n",
    "    Part 4.2: vehicle registration year indicated beyond 2016: 1,966 rows. \n",
    "    Part 4.4: vehicles driven 5,00 km and registered before 2014: 607 rows.\n",
    "    Part 4.4: vehicles driven 10,00 km and registered before 2009: 33 rows.\n",
    "    Part 4.4: vehicles driven 20,00 km and registered before 2009: 187 rows.\n",
    "    Part 4.5: vehicle priced between $0-99: 1,404 rows.   \n",
    "    Part 4.5: vehicles prices above 500,000: 7 rows\n",
    "\n",
    "Columns: No change\n",
    "(Initial Count: 20)(Previous Count:17) (Current Count: 17) "
   ]
  },
  {
   "cell_type": "code",
   "execution_count": 44,
   "id": "0f2e2e1e",
   "metadata": {},
   "outputs": [
    {
     "name": "stdout",
     "output_type": "stream",
     "text": [
      "Number of rows and columns in the dataframe: (44870, 17)\n",
      "True\n"
     ]
    }
   ],
   "source": [
    "print(\"Number of rows and columns in the dataframe:\", autos.shape)\n",
    "### checking for accuracy of the number of rows ###\n",
    "print(len(autos) == 49998 - (924 + 1966 + 607 + 33 + 187 + 1404 + 7))"
   ]
  },
  {
   "cell_type": "markdown",
   "id": "9d83453c",
   "metadata": {},
   "source": [
    "# ----------  End of Part D ---------- "
   ]
  },
  {
   "cell_type": "markdown",
   "id": "994d02e4",
   "metadata": {},
   "source": [
    "# Part E: Data Analysis"
   ]
  },
  {
   "cell_type": "markdown",
   "id": "29bfff20",
   "metadata": {},
   "source": [
    "# 5. Analyse the data"
   ]
  },
  {
   "cell_type": "markdown",
   "id": "4ee3b58b",
   "metadata": {},
   "source": [
    "## 5.1 Calculating the distribution based on the column: 'reg_year'.\n"
   ]
  },
  {
   "cell_type": "markdown",
   "id": "6ed8c058",
   "metadata": {},
   "source": [
    "##### Taking into consideration that the dataset includes advertisements between June 2015 and April 2016, the following observations are made."
   ]
  },
  {
   "cell_type": "code",
   "execution_count": 45,
   "id": "acb5f98e",
   "metadata": {
    "scrolled": true
   },
   "outputs": [
    {
     "data": {
      "text/plain": [
       "2000    6.739470\n",
       "2005    6.369512\n",
       "1999    6.307109\n",
       "2003    5.961667\n",
       "2004    5.946066\n",
       "2006    5.894807\n",
       "2001    5.754402\n",
       "2002    5.424560\n",
       "1998    5.110319\n",
       "2007    5.001114\n",
       "2008    4.891910\n",
       "2009    4.622242\n",
       "1997    4.214397\n",
       "2011    3.592601\n",
       "2010    3.521284\n",
       "1996    2.966347\n",
       "2012    2.903945\n",
       "2016    2.678850\n",
       "1995    2.560731\n",
       "2013    1.769556\n",
       "2014    1.475373\n",
       "1994    1.346111\n",
       "1993    0.922665\n",
       "2015    0.846891\n",
       "1992    0.793403\n",
       "1991    0.744373\n",
       "1990    0.693113\n",
       "1989    0.372186\n",
       "1988    0.276354\n",
       "1987    0.153778\n",
       "1986    0.144863\n",
       "Name: reg_year, dtype: float64"
      ]
     },
     "execution_count": 45,
     "metadata": {},
     "output_type": "execute_result"
    }
   ],
   "source": [
    "### counting number of listings based on the registration year and converting them to percentage ###\n",
    "distr_ = autos[\"reg_year\"].value_counts(normalize=True).sort_values(ascending=False)*100\n",
    "distr_"
   ]
  },
  {
   "cell_type": "markdown",
   "id": "9ee7283d",
   "metadata": {},
   "source": [
    "##### About 63% of the vehicles listed are 10 years old or older. "
   ]
  },
  {
   "cell_type": "code",
   "execution_count": 46,
   "id": "621bcf8d",
   "metadata": {
    "scrolled": false
   },
   "outputs": [
    {
     "name": "stdout",
     "output_type": "stream",
     "text": [
      "Vehicles 5 years old or younger 13.267216402941832 %\n",
      "Vehicles 5-9 years old: 23.931357254290173 %\n",
      "Vehicles 10 years old or older: 62.801426342767996 %\n"
     ]
    }
   ],
   "source": [
    "### extracting percentage of vehicles that are 5 years old or younger ###\n",
    "distr_above_2010 = distr_[distr_.index>2010]\n",
    "print(\"Vehicles 5 years old or younger\", \n",
    "      sum(distr_above_2010), \n",
    "      \"%\")\n",
    "\n",
    "### extracting percentage of vehicles that are 5-9 years old ###\n",
    "distr_btw_2006_2010 = distr_[(distr_.index>=2006) & (distr_.index<=2010)]\n",
    "print(\"Vehicles 5-9 years old:\", \n",
    "      sum(distr_btw_2006_2010), \n",
    "      \"%\")\n",
    "\n",
    "### extracting percentage of vehicles that are 10 years old or older ###\n",
    "distr_below_2006 = distr_[distr_.index<2006]\n",
    "print(\"Vehicles 10 years old or older:\", \n",
    "      sum(distr_below_2006), \n",
    "      \"%\")"
   ]
  },
  {
   "cell_type": "markdown",
   "id": "8008dfa1",
   "metadata": {},
   "source": [
    "##### Almost 70% of the vehicles listed are 9 years or older, out of which, about 8% of the vehicles are 20 years older or older. "
   ]
  },
  {
   "cell_type": "code",
   "execution_count": 47,
   "id": "a1ac39dc",
   "metadata": {
    "scrolled": true
   },
   "outputs": [
    {
     "name": "stdout",
     "output_type": "stream",
     "text": [
      "Vehicles 9 years old or older: 68.69623356362827 %\n",
      "Vehicles 20 years old or older: 8.00757744595498 %\n"
     ]
    }
   ],
   "source": [
    "### extracting percentage of vehicles that are 9 years old or older ###\n",
    "print(\"Vehicles 9 years old or older:\", \n",
    "      sum(distr_[distr_.index<=2006]), \n",
    "      \"%\")\n",
    "\n",
    "### extracting percentage of vehicles that are 20 years old or older ###\n",
    "print(\"Vehicles 20 years old or older:\", \n",
    "      sum(distr_[distr_.index<1996]), \n",
    "      \"%\")"
   ]
  },
  {
   "cell_type": "markdown",
   "id": "7418961a",
   "metadata": {},
   "source": [
    "## 5.2. Calculating the distribution based on the columns: 'date_crawled', 'ad_created' and 'last_seen'       "
   ]
  },
  {
   "cell_type": "code",
   "execution_count": 48,
   "id": "0c390331",
   "metadata": {
    "scrolled": true
   },
   "outputs": [
    {
     "name": "stdout",
     "output_type": "stream",
     "text": [
      "<class 'pandas.core.frame.DataFrame'>\n",
      "Int64Index: 44870 entries, 0 to 49999\n",
      "Data columns (total 6 columns):\n",
      " #   Column         Non-Null Count  Dtype\n",
      "---  ------         --------------  -----\n",
      " 0   yr_created     44870 non-null  int32\n",
      " 1   month_created  44870 non-null  int32\n",
      " 2   yr_crawled     44870 non-null  int32\n",
      " 3   month_crawled  44870 non-null  int32\n",
      " 4   yr_seen        44870 non-null  int32\n",
      " 5   month_seen     44870 non-null  int32\n",
      "dtypes: int32(6)\n",
      "memory usage: 1.4 MB\n",
      "None\n"
     ]
    },
    {
     "data": {
      "text/html": [
       "<div>\n",
       "<style scoped>\n",
       "    .dataframe tbody tr th:only-of-type {\n",
       "        vertical-align: middle;\n",
       "    }\n",
       "\n",
       "    .dataframe tbody tr th {\n",
       "        vertical-align: top;\n",
       "    }\n",
       "\n",
       "    .dataframe thead th {\n",
       "        text-align: right;\n",
       "    }\n",
       "</style>\n",
       "<table border=\"1\" class=\"dataframe\">\n",
       "  <thead>\n",
       "    <tr style=\"text-align: right;\">\n",
       "      <th></th>\n",
       "      <th>yr_created</th>\n",
       "      <th>month_created</th>\n",
       "      <th>yr_crawled</th>\n",
       "      <th>month_crawled</th>\n",
       "      <th>yr_seen</th>\n",
       "      <th>month_seen</th>\n",
       "    </tr>\n",
       "  </thead>\n",
       "  <tbody>\n",
       "    <tr>\n",
       "      <th>0</th>\n",
       "      <td>2016</td>\n",
       "      <td>3</td>\n",
       "      <td>2016</td>\n",
       "      <td>3</td>\n",
       "      <td>2016</td>\n",
       "      <td>4</td>\n",
       "    </tr>\n",
       "    <tr>\n",
       "      <th>1</th>\n",
       "      <td>2016</td>\n",
       "      <td>4</td>\n",
       "      <td>2016</td>\n",
       "      <td>4</td>\n",
       "      <td>2016</td>\n",
       "      <td>4</td>\n",
       "    </tr>\n",
       "    <tr>\n",
       "      <th>2</th>\n",
       "      <td>2016</td>\n",
       "      <td>3</td>\n",
       "      <td>2016</td>\n",
       "      <td>3</td>\n",
       "      <td>2016</td>\n",
       "      <td>4</td>\n",
       "    </tr>\n",
       "    <tr>\n",
       "      <th>3</th>\n",
       "      <td>2016</td>\n",
       "      <td>3</td>\n",
       "      <td>2016</td>\n",
       "      <td>3</td>\n",
       "      <td>2016</td>\n",
       "      <td>3</td>\n",
       "    </tr>\n",
       "    <tr>\n",
       "      <th>4</th>\n",
       "      <td>2016</td>\n",
       "      <td>4</td>\n",
       "      <td>2016</td>\n",
       "      <td>4</td>\n",
       "      <td>2016</td>\n",
       "      <td>4</td>\n",
       "    </tr>\n",
       "  </tbody>\n",
       "</table>\n",
       "</div>"
      ],
      "text/plain": [
       "   yr_created  month_created  yr_crawled  month_crawled  yr_seen  month_seen\n",
       "0        2016              3        2016              3     2016           4\n",
       "1        2016              4        2016              4     2016           4\n",
       "2        2016              3        2016              3     2016           4\n",
       "3        2016              3        2016              3     2016           3\n",
       "4        2016              4        2016              4     2016           4"
      ]
     },
     "execution_count": 48,
     "metadata": {},
     "output_type": "execute_result"
    }
   ],
   "source": [
    "### For the 'ad_created', 'date_craweled' and 'last_seen':###\n",
    "### - extracting the years and months only using the str[] function;###\n",
    "### - spliting the years and months to 2 seperate columns; and###\n",
    "### - converting them to integer ###\n",
    "\n",
    "ad_year = autos[\"ad_created\"].str[:7].str.split(\"-\", expand=True,).astype(int)\n",
    "ad_year.columns = [\"yr_created\", \"month_created\"]\n",
    "ad_year[[\"yr_crawled\",\"month_crawled\"]]= autos[\"date_crawled\"].str[:7].str.split(\"-\", expand=True,).astype(int)\n",
    "ad_year[[\"yr_seen\",\"month_seen\"]]= autos[\"last_seen\"].str[:7].str.split(\"-\", expand=True,).astype(int)\n",
    "\n",
    "print(ad_year.info())\n",
    "ad_year.head()"
   ]
  },
  {
   "cell_type": "markdown",
   "id": "87501ed3",
   "metadata": {},
   "source": [
    "##### The number of rows is consistent with the listings. All rows do no have null values. This reorganised dataset based on years and months is used to assist with counting the distribution. "
   ]
  },
  {
   "cell_type": "code",
   "execution_count": 49,
   "id": "a082fd7e",
   "metadata": {},
   "outputs": [
    {
     "name": "stdout",
     "output_type": "stream",
     "text": [
      "yr_created  month_created\n",
      "2016        3                37540\n",
      "            4                 7256\n",
      "            2                   60\n",
      "            1                    8\n",
      "2015        12                   2\n",
      "            6                    1\n",
      "            8                    1\n",
      "            9                    1\n",
      "            11                   1\n",
      "dtype: int64\n",
      "\n",
      "\n",
      "yr_crawled  month_crawled\n",
      "2016        3                37566\n",
      "            4                 7304\n",
      "dtype: int64\n",
      "\n",
      "\n",
      "yr_seen  month_seen\n",
      "2016     4             25910\n",
      "         3             18960\n",
      "dtype: int64\n"
     ]
    }
   ],
   "source": [
    "### For 'ad_created', 'date_craweled' and 'last_seen', ###\n",
    "### - counting listings by year ###\n",
    "### - counting listings by month. ###\n",
    "\n",
    "print(ad_year[[\"yr_created\", \"month_created\"]].value_counts())\n",
    "print('\\n')\n",
    "\n",
    "print(ad_year[[\"yr_crawled\", \"month_crawled\"]].value_counts())\n",
    "print('\\n')\n",
    "\n",
    "print(ad_year[[\"yr_seen\", \"month_seen\"]].value_counts())\n"
   ]
  },
  {
   "cell_type": "markdown",
   "id": "c75394c5",
   "metadata": {},
   "source": [
    "##### The above shows the followings:\n",
    "   ##### 1. Out of 44,870 listings, only 6 of them were created in 2015. The rest were created in 2016. \n",
    "   ##### 2. Out of 44,864 listings created in 2016, 37,540 were created in March and 7,256 were created in April. This means that in the year 2016, 68 listings were creating in the months of January and February and 44,796 listings were created in the months of March and April. \n",
    "   ##### 3. Between 11 June 2015 - 7 April 2016, overall, about 99.8% of the listings were created in a space of 38 days in March and April 2016. \n",
    "   ##### 4. All 44,870 listings were crawled only in the months of March and April 2016. This shows that prior to March 2016, the 68 listings created, including those in 2015, were not crawled prior to March 2016\n",
    "   \n"
   ]
  },
  {
   "cell_type": "markdown",
   "id": "7bbb1e1c",
   "metadata": {},
   "source": [
    "##  5.3. Selecting brand and aggregating mean price."
   ]
  },
  {
   "cell_type": "code",
   "execution_count": 50,
   "id": "9e107845",
   "metadata": {
    "scrolled": true
   },
   "outputs": [
    {
     "data": {
      "text/plain": [
       "volkswagen        21.201248\n",
       "bmw               11.123245\n",
       "opel              10.719857\n",
       "mercedes_benz      9.538667\n",
       "audi               8.872298\n",
       "ford               6.948964\n",
       "renault            4.773791\n",
       "peugeot            3.046579\n",
       "fiat               2.527301\n",
       "seat               1.863160\n",
       "skoda              1.664809\n",
       "nissan             1.555605\n",
       "mazda              1.542233\n",
       "smart              1.446401\n",
       "citroen            1.415199\n",
       "toyota             1.290394\n",
       "hyundai            1.029641\n",
       "volvo              0.900379\n",
       "mini               0.900379\n",
       "mitsubishi         0.826833\n",
       "honda              0.788946\n",
       "kia                0.726543\n",
       "alfa_romeo         0.641854\n",
       "sonstige_autos     0.639626\n",
       "suzuki             0.599510\n",
       "porsche            0.554936\n",
       "chevrolet          0.517049\n",
       "chrysler           0.347671\n",
       "dacia              0.274125\n",
       "daihatsu           0.247381\n",
       "jeep               0.229552\n",
       "subaru             0.218409\n",
       "land_rover         0.207265\n",
       "saab               0.167150\n",
       "jaguar             0.151549\n",
       "daewoo             0.147092\n",
       "rover              0.138177\n",
       "lancia             0.102518\n",
       "trabant            0.066860\n",
       "lada               0.046802\n",
       "Name: brand, dtype: float64"
      ]
     },
     "execution_count": 50,
     "metadata": {},
     "output_type": "execute_result"
    }
   ],
   "source": [
    "### counting number of listings based on the brand and converting them to percentage ###\n",
    "brand = autos[\"brand\"].value_counts(normalize=True)*100\n",
    "brand"
   ]
  },
  {
   "cell_type": "code",
   "execution_count": 51,
   "id": "a8d17e0b",
   "metadata": {},
   "outputs": [
    {
     "data": {
      "text/plain": [
       "Index(['volkswagen', 'bmw', 'opel', 'mercedes_benz', 'audi', 'ford'], dtype='object')"
      ]
     },
     "execution_count": 51,
     "metadata": {},
     "output_type": "execute_result"
    }
   ],
   "source": [
    "### extracting brand that has more than 5% listings in total ###\n",
    "brand_listing_more_5perc = brand[brand > 5].index\n",
    "brand_listing_more_5perc"
   ]
  },
  {
   "cell_type": "code",
   "execution_count": 52,
   "id": "7643a290",
   "metadata": {},
   "outputs": [
    {
     "data": {
      "text/plain": [
       "{'volkswagen': 5436,\n",
       " 'bmw': 8375,\n",
       " 'opel': 3001,\n",
       " 'mercedes_benz': 8556,\n",
       " 'audi': 9419,\n",
       " 'ford': 3490}"
      ]
     },
     "execution_count": 52,
     "metadata": {},
     "output_type": "execute_result"
    }
   ],
   "source": [
    "### create empty dictionary ###\n",
    "dic_brand_avg_price = {}\n",
    "  \n",
    "### loop over each brand that has more than 5% listings ###\n",
    "### assign each brand to the empty dictionary as the key ###\n",
    "### for each brands, calculate the average price ###\n",
    "### assign the average price for that brand to the emptry dictionary as the value ###\n",
    "for brand in brand_listing_more_5perc:\n",
    "    avg_price = autos.loc[autos[\"brand\"] == brand, \"price_$\"].mean()\n",
    "    dic_brand_avg_price[brand] = int(avg_price)\n",
    "\n",
    "dic_brand_avg_price"
   ]
  },
  {
   "cell_type": "markdown",
   "id": "95b1ef89",
   "metadata": {},
   "source": [
    "##### Except for ford, all of them have their headquerter in Germany. Audi has the highest average price and opel has the lowest average price. The average price gap between these 2 brands is about $6,400. "
   ]
  },
  {
   "cell_type": "markdown",
   "id": "313fbb64",
   "metadata": {},
   "source": [
    "## 5.4. Calculating the mean mileage and mean price for each of the top brands"
   ]
  },
  {
   "cell_type": "code",
   "execution_count": 53,
   "id": "7bab49a8",
   "metadata": {},
   "outputs": [
    {
     "data": {
      "text/plain": [
       "{'volkswagen': 130877,\n",
       " 'bmw': 134713,\n",
       " 'opel': 132144,\n",
       " 'mercedes_benz': 132517,\n",
       " 'audi': 130106,\n",
       " 'ford': 127134}"
      ]
     },
     "execution_count": 53,
     "metadata": {},
     "output_type": "execute_result"
    }
   ],
   "source": [
    "### create empty dictionary ###\n",
    "dic_brand_avg_mileage = {}\n",
    "\n",
    "### loop over each brand in dic_brand_avg_price ###\n",
    "### assign each brand to the empty dictionary as the key ###\n",
    "### for each brands, calculate the average mileage ###\n",
    "### assign the average mileage for that brand to the emptry dictionary as the value ###\n",
    "\n",
    "for brand in dic_brand_avg_price:\n",
    "    avg_mileage = autos.loc[autos[\"brand\"]==brand, \"odometer_km\"].mean()\n",
    "    dic_brand_avg_mileage[brand] = int(avg_mileage)\n",
    "    \n",
    "dic_brand_avg_mileage"
   ]
  },
  {
   "cell_type": "code",
   "execution_count": 54,
   "id": "4be37965",
   "metadata": {},
   "outputs": [],
   "source": [
    "### assigning dic_brand_avg_price to a variable: brand_avg_price ###\n",
    "brand_avg_price = pd.Series(dic_brand_avg_price).sort_values(ascending=False)\n",
    "### assigning dic_brand_avg_mileage to a variable: brand_avg_mileage ###\n",
    "brand_avg_mileage = pd.Series(dic_brand_avg_mileage).sort_values(ascending=False)"
   ]
  },
  {
   "cell_type": "code",
   "execution_count": 55,
   "id": "b59b8511",
   "metadata": {
    "scrolled": false
   },
   "outputs": [
    {
     "data": {
      "text/html": [
       "<div>\n",
       "<style scoped>\n",
       "    .dataframe tbody tr th:only-of-type {\n",
       "        vertical-align: middle;\n",
       "    }\n",
       "\n",
       "    .dataframe tbody tr th {\n",
       "        vertical-align: top;\n",
       "    }\n",
       "\n",
       "    .dataframe thead th {\n",
       "        text-align: right;\n",
       "    }\n",
       "</style>\n",
       "<table border=\"1\" class=\"dataframe\">\n",
       "  <thead>\n",
       "    <tr style=\"text-align: right;\">\n",
       "      <th></th>\n",
       "      <th>avg_price</th>\n",
       "      <th>avg_mileage</th>\n",
       "    </tr>\n",
       "  </thead>\n",
       "  <tbody>\n",
       "    <tr>\n",
       "      <th>audi</th>\n",
       "      <td>9419</td>\n",
       "      <td>130106</td>\n",
       "    </tr>\n",
       "    <tr>\n",
       "      <th>mercedes_benz</th>\n",
       "      <td>8556</td>\n",
       "      <td>132517</td>\n",
       "    </tr>\n",
       "    <tr>\n",
       "      <th>bmw</th>\n",
       "      <td>8375</td>\n",
       "      <td>134713</td>\n",
       "    </tr>\n",
       "    <tr>\n",
       "      <th>volkswagen</th>\n",
       "      <td>5436</td>\n",
       "      <td>130877</td>\n",
       "    </tr>\n",
       "    <tr>\n",
       "      <th>ford</th>\n",
       "      <td>3490</td>\n",
       "      <td>127134</td>\n",
       "    </tr>\n",
       "    <tr>\n",
       "      <th>opel</th>\n",
       "      <td>3001</td>\n",
       "      <td>132144</td>\n",
       "    </tr>\n",
       "  </tbody>\n",
       "</table>\n",
       "</div>"
      ],
      "text/plain": [
       "               avg_price  avg_mileage\n",
       "audi                9419       130106\n",
       "mercedes_benz       8556       132517\n",
       "bmw                 8375       134713\n",
       "volkswagen          5436       130877\n",
       "ford                3490       127134\n",
       "opel                3001       132144"
      ]
     },
     "execution_count": 55,
     "metadata": {},
     "output_type": "execute_result"
    }
   ],
   "source": [
    "### converting brand_avg_price to dataframe ###\n",
    "brand_price_mileage = pd.DataFrame(brand_avg_price, columns = ['avg_price'])\n",
    "### to that dataframe, adding avg_mileage column ###\n",
    "brand_price_mileage[\"avg_mileage\"] = brand_avg_mileage\n",
    "\n",
    "brand_price_mileage"
   ]
  },
  {
   "cell_type": "markdown",
   "id": "2dc30259",
   "metadata": {},
   "source": [
    "##### Even though the average mileage differs by less than 10,000K among all brands (range is 127,000km - 135,000km), there is significant difference in the average price.  The average price of audi is about $6,000 more than volkswagen. "
   ]
  },
  {
   "cell_type": "markdown",
   "id": "3ff9356e",
   "metadata": {},
   "source": [
    "## 5.5. Finding the most common brand/model combinations"
   ]
  },
  {
   "cell_type": "code",
   "execution_count": 56,
   "id": "76cf183b",
   "metadata": {
    "scrolled": false
   },
   "outputs": [
    {
     "data": {
      "text/plain": [
       "brand       model \n",
       "volkswagen  golf      3613\n",
       "bmw         3er       2545\n",
       "volkswagen  polo      1558\n",
       "opel        corsa     1541\n",
       "volkswagen  passat    1326\n",
       "opel        astra     1319\n",
       "dtype: int64"
      ]
     },
     "execution_count": 56,
     "metadata": {},
     "output_type": "execute_result"
    }
   ],
   "source": [
    "### using groupby() function to count the listings by brand and model and assigning it to a variable: 'brand_model' ### \n",
    "brand_model = autos.groupby([\"brand\",\"model\"]).size().nlargest(6)\n",
    "brand_model "
   ]
  },
  {
   "cell_type": "code",
   "execution_count": 57,
   "id": "6d0dda42",
   "metadata": {
    "scrolled": false
   },
   "outputs": [
    {
     "data": {
      "text/plain": [
       "brand       model   gearbox\n",
       "volkswagen  polo    manual     92\n",
       "opel        corsa   manual     91\n",
       "            astra   manual     89\n",
       "volkswagen  golf    manual     84\n",
       "bmw         3er     manual     76\n",
       "volkswagen  passat  manual     75\n",
       "dtype: int32"
      ]
     },
     "execution_count": 57,
     "metadata": {},
     "output_type": "execute_result"
    }
   ],
   "source": [
    "### using groupby() function to count the listings by 'brand', 'model' and 'gearbox' and ###\n",
    "### assigning it to a variable: brand_model_gear ###\n",
    "brand_model_gearbox = autos.groupby([\"brand\",\"model\", \"gearbox\"]).size().sort_values(ascending=False).head(6)\n",
    "\n",
    "### calculating the percentage of 'brand_model_gearbox' against 'brand_model' ###\n",
    "brand_model_gearbox_perc = (brand_model_gearbox/brand_model) * 100\n",
    "brand_model_gearbox_perc.sort_values(ascending=False).astype(int)\n",
    "\n"
   ]
  },
  {
   "cell_type": "markdown",
   "id": "980664e0",
   "metadata": {},
   "source": [
    "##### The top 6 brand model combination have one thing in common. More than 2/3 of these listings have their 'gearbox' listed as 'manual'. "
   ]
  },
  {
   "cell_type": "code",
   "execution_count": 58,
   "id": "ffda5a38",
   "metadata": {
    "scrolled": true
   },
   "outputs": [
    {
     "data": {
      "text/plain": [
       "brand       model   gearbox  odometer_km\n",
       "volkswagen  passat  manual   150000         85\n",
       "bmw         3er     manual   150000         84\n",
       "volkswagen  golf    manual   150000         71\n",
       "opel        astra   manual   150000         70\n",
       "volkswagen  polo    manual   150000         66\n",
       "opel        corsa   manual   150000         65\n",
       "dtype: int32"
      ]
     },
     "execution_count": 58,
     "metadata": {},
     "output_type": "execute_result"
    }
   ],
   "source": [
    "### using groupby() function to count the listings by 'brand', 'model', 'gearbox' and 'adometer_km' and ###\n",
    "### assigning it to a variable: brand_model_gearbox_mileage ###\n",
    "brand_model_gearbox_mileage =autos.groupby([\"brand\",\"model\", \"gearbox\", \"odometer_km\"]).size().sort_values(ascending=False).head(6)\n",
    "\n",
    "### calculating the percentage of 'brand_model_gearbox_mileage' against 'brand_model_gearbox' ###\n",
    "brand_model_gearbox_mileage_per = (brand_model_gearbox_mileage/brand_model_gearbox) * 100\n",
    "brand_model_gearbox_mileage_per.sort_values(ascending=False).astype(int)"
   ]
  },
  {
   "cell_type": "markdown",
   "id": "b2e2e146",
   "metadata": {},
   "source": [
    "##### Furthermore, majority of these manually driven vahicles have 'adomoneter_km' listed as 150,000km.  \n",
    "\n",
    "##### These findings seems to be consistent with the findings in Part 5.1 above that 70% of the vehicles listed are 9 years or older.  "
   ]
  },
  {
   "cell_type": "markdown",
   "id": "b0d171e6",
   "metadata": {},
   "source": [
    "# Observation"
   ]
  },
  {
   "cell_type": "markdown",
   "id": "8cdf4bdf",
   "metadata": {},
   "source": [
    "\n",
    "## 5.6. Finding if the average prices follows any patterns based on the mileage.\n"
   ]
  },
  {
   "cell_type": "code",
   "execution_count": 59,
   "id": "1f8d6422",
   "metadata": {
    "scrolled": true
   },
   "outputs": [
    {
     "data": {
      "text/plain": [
       "150000    29590\n",
       "125000     4763\n",
       "100000     1960\n",
       "90000      1631\n",
       "80000      1330\n",
       "70000      1139\n",
       "60000      1081\n",
       "50000       959\n",
       "40000       775\n",
       "30000       736\n",
       "20000       547\n",
       "10000       192\n",
       "5000        167\n",
       "Name: odometer_km, dtype: int64"
      ]
     },
     "execution_count": 59,
     "metadata": {},
     "output_type": "execute_result"
    }
   ],
   "source": [
    "### counting number of listings based on 'odometer_km' and assigning it to varaible: mileage ###\n",
    "mileage = autos[\"odometer_km\"].value_counts()\n",
    "mileage"
   ]
  },
  {
   "cell_type": "code",
   "execution_count": 60,
   "id": "9c0876b7",
   "metadata": {},
   "outputs": [
    {
     "data": {
      "text/html": [
       "<div>\n",
       "<style scoped>\n",
       "    .dataframe tbody tr th:only-of-type {\n",
       "        vertical-align: middle;\n",
       "    }\n",
       "\n",
       "    .dataframe tbody tr th {\n",
       "        vertical-align: top;\n",
       "    }\n",
       "\n",
       "    .dataframe thead th {\n",
       "        text-align: right;\n",
       "    }\n",
       "</style>\n",
       "<table border=\"1\" class=\"dataframe\">\n",
       "  <thead>\n",
       "    <tr style=\"text-align: right;\">\n",
       "      <th></th>\n",
       "      <th>avg_price</th>\n",
       "    </tr>\n",
       "  </thead>\n",
       "  <tbody>\n",
       "    <tr>\n",
       "      <th>5000</th>\n",
       "      <td>28708</td>\n",
       "    </tr>\n",
       "    <tr>\n",
       "      <th>10000</th>\n",
       "      <td>24005</td>\n",
       "    </tr>\n",
       "    <tr>\n",
       "      <th>20000</th>\n",
       "      <td>21884</td>\n",
       "    </tr>\n",
       "    <tr>\n",
       "      <th>30000</th>\n",
       "      <td>16710</td>\n",
       "    </tr>\n",
       "    <tr>\n",
       "      <th>40000</th>\n",
       "      <td>15617</td>\n",
       "    </tr>\n",
       "    <tr>\n",
       "      <th>50000</th>\n",
       "      <td>13823</td>\n",
       "    </tr>\n",
       "    <tr>\n",
       "      <th>60000</th>\n",
       "      <td>12350</td>\n",
       "    </tr>\n",
       "    <tr>\n",
       "      <th>70000</th>\n",
       "      <td>10946</td>\n",
       "    </tr>\n",
       "    <tr>\n",
       "      <th>80000</th>\n",
       "      <td>9768</td>\n",
       "    </tr>\n",
       "    <tr>\n",
       "      <th>90000</th>\n",
       "      <td>8373</td>\n",
       "    </tr>\n",
       "    <tr>\n",
       "      <th>100000</th>\n",
       "      <td>7900</td>\n",
       "    </tr>\n",
       "    <tr>\n",
       "      <th>125000</th>\n",
       "      <td>6213</td>\n",
       "    </tr>\n",
       "    <tr>\n",
       "      <th>150000</th>\n",
       "      <td>3742</td>\n",
       "    </tr>\n",
       "  </tbody>\n",
       "</table>\n",
       "</div>"
      ],
      "text/plain": [
       "        avg_price\n",
       "5000        28708\n",
       "10000       24005\n",
       "20000       21884\n",
       "30000       16710\n",
       "40000       15617\n",
       "50000       13823\n",
       "60000       12350\n",
       "70000       10946\n",
       "80000        9768\n",
       "90000        8373\n",
       "100000       7900\n",
       "125000       6213\n",
       "150000       3742"
      ]
     },
     "execution_count": 60,
     "metadata": {},
     "output_type": "execute_result"
    }
   ],
   "source": [
    "### extracting the index of mileage above and assigning them to a variable: mileage_ ###\n",
    "mileage_ = mileage.index\n",
    "\n",
    "### creating emptry dictionary ###\n",
    "dic_mileage_avg_price = {}\n",
    "\n",
    "### loop over each mileage / index and assigning it to the empty dictionary as the key ### \n",
    "### calculate average price of all listings based on each mileage/index ###\n",
    "### assigning the average price to the dictionary as the value ###\n",
    "for mile in mileage_:\n",
    "    avg_price = autos.loc[autos[\"odometer_km\"] == mile, \"price_$\"].mean()\n",
    "    dic_mileage_avg_price[mile] = int(avg_price)\n",
    "\n",
    "### extracting the dictionary keys and value and presenting them in a new dataframe format ###\n",
    "mileage_avg_price = pd.Series(dic_mileage_avg_price).sort_values(ascending=False)\n",
    "mileage_avg_price = pd.DataFrame(mileage_avg_price, columns = [\"avg_price\"])\n",
    "mileage_avg_price"
   ]
  },
  {
   "cell_type": "markdown",
   "id": "220fe920",
   "metadata": {},
   "source": [
    "##### There is a gradual decrease in price when the adomoter reading for km driven increases. "
   ]
  },
  {
   "cell_type": "markdown",
   "id": "44970a61",
   "metadata": {},
   "source": [
    "## 5.7. Finding out how much cheaper are cars with damage than their non-damaged counterparts"
   ]
  },
  {
   "cell_type": "code",
   "execution_count": 61,
   "id": "28eb7c40",
   "metadata": {},
   "outputs": [
    {
     "data": {
      "text/plain": [
       "unrepaired_damage\n",
       "no     7085\n",
       "yes    2252\n",
       "Name: price_$, dtype: int32"
      ]
     },
     "execution_count": 61,
     "metadata": {},
     "output_type": "execute_result"
    }
   ],
   "source": [
    "### using groupby() function to calculate the average difference in price ###\n",
    "autos.groupby('unrepaired_damage')['price_$'].mean().astype(int)"
   ]
  },
  {
   "cell_type": "markdown",
   "id": "129fb113",
   "metadata": {},
   "source": [
    "#### Vehicles with damages repaired are listed at higher price. "
   ]
  },
  {
   "cell_type": "markdown",
   "id": "e8defea2",
   "metadata": {},
   "source": [
    "# ----------  End of Part D ---------- "
   ]
  }
 ],
 "metadata": {
  "_draft": {
   "nbviewer_url": "https://gist.github.com/d1262c31ee0b6c09dd9e8c477133c90b"
  },
  "gist": {
   "data": {
    "description": "eBay Car Sales.ipynb",
    "public": true
   },
   "id": "d1262c31ee0b6c09dd9e8c477133c90b"
  },
  "kernelspec": {
   "display_name": "Python 3",
   "language": "python",
   "name": "python3"
  },
  "language_info": {
   "codemirror_mode": {
    "name": "ipython",
    "version": 3
   },
   "file_extension": ".py",
   "mimetype": "text/x-python",
   "name": "python",
   "nbconvert_exporter": "python",
   "pygments_lexer": "ipython3",
   "version": "3.8.8"
  }
 },
 "nbformat": 4,
 "nbformat_minor": 5
}
